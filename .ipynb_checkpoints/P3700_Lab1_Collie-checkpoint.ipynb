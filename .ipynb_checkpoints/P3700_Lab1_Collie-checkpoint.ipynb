{
 "cells": [
  {
   "cell_type": "markdown",
   "metadata": {},
   "source": [
    "PHYS 3700 Lab 1"
   ]
  },
  {
   "cell_type": "markdown",
   "metadata": {},
   "source": [
    "In the first part of this lab you will be simulating an analog signal to apply analog to digital conversion (ADC) methods and then reconstruct the signal with digital to analog conversion (DAC). The second part of this lab involves recording sound files on your computer then using Python to read/write and process those sound files.\n",
    "Please complete the following in a Jupyter notebook and name it P3700_Lab1_lastname.ipynb. All requested plots need to be fully labelled. In addition to functional code, please fully explain what you’re doing and declare variables either by commenting your code or using markdown cells. Submit it to our course Moodle site.\n",
    "1. ADC and DAC. Simulated Analog Signals, Sampling, Quantization, Filtering, Reconstruction."
   ]
  },
  {
   "cell_type": "markdown",
   "metadata": {},
   "source": [
    "(a) Generate 20 cycles of the “continuous” function (AS):\n",
    "\n",
    "    V(t) = 0.3V sin(2π(50Hz)t) + 0.3V sin(2π(175Hz)t) + 0.3V sin(2π(60Hz)t) + 0.2V"
   ]
  },
  {
   "cell_type": "code",
   "execution_count": 1,
   "metadata": {},
   "outputs": [],
   "source": [
    "import numpy as np\n",
    "import matplotlib.pyplot as plt\n",
    "import math"
   ]
  },
  {
   "cell_type": "code",
   "execution_count": 10,
   "metadata": {},
   "outputs": [],
   "source": [
    "def v_t(t):\n",
    "    v = 0.3*math.sin(2*math.pi*50*t)+0.3*math.sin(2*math.pi*175*t)+0.3*math.sin(2*math.pi*60*t)+.2\n",
    "    return v"
   ]
  },
  {
   "cell_type": "markdown",
   "metadata": {},
   "source": [
    "(b) Sample the function at 500 Hz. (Sample-and-Hold signal)"
   ]
  },
  {
   "cell_type": "code",
   "execution_count": null,
   "metadata": {},
   "outputs": [],
   "source": []
  },
  {
   "cell_type": "markdown",
   "metadata": {},
   "source": [
    "(c) Run np.fft.fft(x_samp) on your Sample-and-Hold signal. Plot the absolute value of the Fourier spectrum and check that the peaks occur where you expect them too. Again, you can ignore the peaks on the right half of the graph."
   ]
  },
  {
   "cell_type": "code",
   "execution_count": null,
   "metadata": {},
   "outputs": [],
   "source": []
  },
  {
   "cell_type": "markdown",
   "metadata": {},
   "source": [
    "(d) Using a 3-bit quantization scheme (23 levels), quantize your sampled values. (Quantized Signal) \n",
    " - This step will take some planning. A given sample value needs to get assigned to a specific quantization level.\n",
    " - e.g. with 4 levels, 0 V, 1 V, 2 V, 3 V, a sampled value of 2.4456 V gets quantized to 2 V."
   ]
  },
  {
   "cell_type": "code",
   "execution_count": null,
   "metadata": {},
   "outputs": [],
   "source": []
  },
  {
   "cell_type": "markdown",
   "metadata": {},
   "source": [
    "(e) From your Quantized Signal produce a Zero-Order Hold (ZOH) list with the same number of elements as your original “continuous” signal."
   ]
  },
  {
   "cell_type": "code",
   "execution_count": null,
   "metadata": {},
   "outputs": [],
   "source": []
  },
  {
   "cell_type": "markdown",
   "metadata": {},
   "source": [
    "(f) Plot quantization error (ZOH - AS) vs. time or sample number. Then plot a histogram of the quantization error with the mean and standard deviation displayed on the plot. Compare the mean and standard deviation to what you expect because of quantization."
   ]
  },
  {
   "cell_type": "code",
   "execution_count": null,
   "metadata": {},
   "outputs": [],
   "source": []
  },
  {
   "cell_type": "markdown",
   "metadata": {},
   "source": [
    "(g) Plot the “continuous” function, a step plot of the Sample-and-Hold Signal, a step plot of the Quantized Sample. Put all 3 plots all on one graph. Just plot 2 of your 10 cycles so that the plot is easier to read."
   ]
  },
  {
   "cell_type": "code",
   "execution_count": null,
   "metadata": {},
   "outputs": [],
   "source": []
  },
  {
   "cell_type": "markdown",
   "metadata": {},
   "source": [
    "(h) Run np.fft.fft(x_zoh) on your ZOH Signal. Plot the absolute value of the Fourier spectrum and check that the peaks occur where you expect them too. Again, you can ignore the peaks on the right half of the graph. Notice the higher frequency clusters above the 3 main frequencies you expect. What do you think those higher frequencies represent in your ZOH graph?"
   ]
  },
  {
   "cell_type": "code",
   "execution_count": null,
   "metadata": {},
   "outputs": [],
   "source": []
  },
  {
   "cell_type": "markdown",
   "metadata": {},
   "source": [
    "(i) You’re now going to smooth your ZOH. The filter we will be using is called a Butterworth filter. The details will be presented in a couple weeks, but for now we’re just going to use it to remove the high frequency clusters in order to smooth our ZOH so it will reconstruct into something similar to our original AS. The following code will apply a Butterworth filter to your ZOH data."
   ]
  },
  {
   "cell_type": "code",
   "execution_count": null,
   "metadata": {},
   "outputs": [],
   "source": [
    "cutoff = 400 # cutoff frequency.\n",
    "#The intensity of all frequencies above this will be reduced.\n",
    "nyq = 0.5 * fs # fs is the sampling rate of x_zoh\n",
    "normal_cutoff = cutoff / nyq # normalized cutoff frequency\n",
    "b, a = signal.butter(5, normal_cutoff, ’low’)\n",
    "x_smooth = signal.filtfilt(b, a, x_zoh)\n"
   ]
  },
  {
   "cell_type": "code",
   "execution_count": null,
   "metadata": {},
   "outputs": [],
   "source": []
  },
  {
   "cell_type": "markdown",
   "metadata": {},
   "source": [
    "(j) Based on your frequency spectrum of your ZOH. What should your cutoff frequency be? What frequencies are actually in the signal and you would like to keep? Any frequencies higher than those in the actual signal should be filtered out."
   ]
  },
  {
   "cell_type": "code",
   "execution_count": null,
   "metadata": {},
   "outputs": [],
   "source": []
  },
  {
   "cell_type": "markdown",
   "metadata": {},
   "source": [
    "\n",
    "(k) On the same graph plot x_smooth when cutoff=1000 and when cutoff= the value you decided in the above question."
   ]
  },
  {
   "cell_type": "code",
   "execution_count": null,
   "metadata": {},
   "outputs": [],
   "source": []
  },
  {
   "cell_type": "markdown",
   "metadata": {},
   "source": [
    "(l) Plot the AS, ZOH and x_smooth (with the proper cutoff) on the same plot."
   ]
  },
  {
   "cell_type": "code",
   "execution_count": null,
   "metadata": {},
   "outputs": [],
   "source": []
  },
  {
   "cell_type": "markdown",
   "metadata": {},
   "source": [
    "(m) Run np.fft.fft(x_smooth) on your smoothed signal. Plot the absolute value of the Fourier\n",
    "spectrum and check that the higher frequency clusters were removed."
   ]
  },
  {
   "cell_type": "code",
   "execution_count": null,
   "metadata": {},
   "outputs": [],
   "source": []
  },
  {
   "cell_type": "markdown",
   "metadata": {},
   "source": [
    "(n) Write a summary of the ADC and DAC process. Don’t focus too much on how you did things, but talk about the effects of quantization, sampling, aliasing, and reconstructing a continuous signal from a discrete sample."
   ]
  },
  {
   "cell_type": "code",
   "execution_count": null,
   "metadata": {},
   "outputs": [],
   "source": []
  },
  {
   "cell_type": "markdown",
   "metadata": {},
   "source": [
    "\n",
    "2. Wav Files. Tuning forks and your voice.\n",
    "- Use the Voice Recorder application on your computer to record the wav files for this section.\n",
    "- If your application saves the audio files as m4a, you can use an online converter to save them as wav files.\n",
    "- You can play wave files in Jupyter with the following bit of code import IPython\n",
    "\n",
    "        IPython.display.Audio(\"violin.wav\")\n",
    "- You can read the wav file into a list with the following bit of code\n",
    "       \n",
    "       from scipy.io import wavfile\n",
    "       fs, data = wavfile.read(’violin.wav’) #fs is the sampling rate\n",
    "       x = data[:,0] # Left Channel\n",
    "       y = data[:,1] # Right Channel\n",
    "- Repeat the following steps for roughly 3 second samples of the 512 Hz tuning fork, 1024 Hz tuning fork, both the 512 Hz and 523.3 Hz at the same time, and you reading the following line\n",
    "\n",
    "       The quick brown fox jumps over the lazy dog."
   ]
  },
  {
   "cell_type": "code",
   "execution_count": null,
   "metadata": {},
   "outputs": [],
   "source": []
  },
  {
   "cell_type": "markdown",
   "metadata": {},
   "source": [
    "\n",
    "(a) Plot the entire waveform. You can use just one channel for the following steps."
   ]
  },
  {
   "cell_type": "code",
   "execution_count": null,
   "metadata": {},
   "outputs": [],
   "source": []
  },
  {
   "cell_type": "markdown",
   "metadata": {},
   "source": [
    "(b) Plot a segment of the waveform. Make the segment short enough that you can see some space between the variations in voltage. \n",
    "\n",
    "    e.g. plt.plot(x[1000:2000])"
   ]
  },
  {
   "cell_type": "code",
   "execution_count": null,
   "metadata": {},
   "outputs": [],
   "source": []
  },
  {
   "cell_type": "markdown",
   "metadata": {},
   "source": [
    "(c) Apply a Fourier transform to the entire wave and plot the frequency spectrum. Identify the expected peak in frequency. You may need to make the y-axis a log scale. You don’t need to try and identify expected frequencies for your voice recording."
   ]
  },
  {
   "cell_type": "code",
   "execution_count": null,
   "metadata": {},
   "outputs": [],
   "source": []
  },
  {
   "cell_type": "markdown",
   "metadata": {},
   "source": [
    "(d) Your recording may be noisy so apply both a low-pass Butterworth filter and a high-pass But- terworth filter to remove high and low frequency noise without affecting your signal frequency. The code below will apply both."
   ]
  },
  {
   "cell_type": "code",
   "execution_count": null,
   "metadata": {},
   "outputs": [],
   "source": [
    "hi_cutoff = 1200\n",
    "nyq = 0.5 * fs\n",
    "normal_cutoff = hi_cutoff / nyq\n",
    "b, a = signal.butter(8, normal_cutoff, btype=’high’, analog=False)\n",
    "output = signal.filtfilt(b, a, x)\n",
    "low_cutoff = 18000\n",
    "nyq = 0.5 * fs\n",
    "normal_cutoff = low_cutoff / nyq\n",
    "b, a = signal.butter(8, normal_cutoff, btype=’low’, analog=False)\n",
    "output = signal.filtfilt(b, a, output)"
   ]
  },
  {
   "cell_type": "code",
   "execution_count": null,
   "metadata": {},
   "outputs": [],
   "source": []
  },
  {
   "cell_type": "markdown",
   "metadata": {},
   "source": [
    "(e) Apply a Fourier transform to the newly filtered wave and plot another frequency spectrum. Check that the high and low frequency noise has been reduced."
   ]
  },
  {
   "cell_type": "code",
   "execution_count": null,
   "metadata": {},
   "outputs": [],
   "source": []
  },
  {
   "cell_type": "markdown",
   "metadata": {},
   "source": [
    "(f) Write your filtered wave to a wav file and listen to it. The following bit of code will write your data to a wave file."
   ]
  },
  {
   "cell_type": "code",
   "execution_count": null,
   "metadata": {},
   "outputs": [],
   "source": [
    "filtered_out = np.asarray(output, dtype=np.int16)\n",
    "wavfile.write(’recording_filtered.wav’,fs,filtered_out)"
   ]
  },
  {
   "cell_type": "code",
   "execution_count": null,
   "metadata": {},
   "outputs": [],
   "source": []
  },
  {
   "cell_type": "markdown",
   "metadata": {},
   "source": [
    "(g) When you recorded two tuning forks at once, the beat frequency should be visible in the Fourier spectrum. Try to reduce noise in the recording, but do not filter the beat frequency."
   ]
  },
  {
   "cell_type": "code",
   "execution_count": null,
   "metadata": {},
   "outputs": [],
   "source": []
  },
  {
   "cell_type": "markdown",
   "metadata": {},
   "source": [
    "(h) With your voice recording, you can try different filter frequencies, but in the end, save a wav file with the low frequencies filtered."
   ]
  },
  {
   "cell_type": "code",
   "execution_count": null,
   "metadata": {},
   "outputs": [],
   "source": []
  }
 ],
 "metadata": {
  "kernelspec": {
   "display_name": "Python 3",
   "language": "python",
   "name": "python3"
  },
  "language_info": {
   "codemirror_mode": {
    "name": "ipython",
    "version": 3
   },
   "file_extension": ".py",
   "mimetype": "text/x-python",
   "name": "python",
   "nbconvert_exporter": "python",
   "pygments_lexer": "ipython3",
   "version": "3.8.5"
  }
 },
 "nbformat": 4,
 "nbformat_minor": 4
}
