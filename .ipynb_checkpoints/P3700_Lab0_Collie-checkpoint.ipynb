{
 "cells": [
  {
   "cell_type": "markdown",
   "metadata": {},
   "source": [
    "Physics 3700 Lab 0\n",
    "by Dallas Collie"
   ]
  },
  {
   "cell_type": "code",
   "execution_count": 1,
   "metadata": {},
   "outputs": [],
   "source": [
    "import numpy as np\n",
    "from scipy.stats import norm\n",
    "\n",
    "# pulling average temperature data from file\n",
    "avg_temperature = np.loadtxt(\"weatherstats_vancouver_daily.csv\", delimiter=\",\", usecols=(3), skiprows=(1))"
   ]
  },
  {
   "cell_type": "markdown",
   "metadata": {},
   "source": [
    "TASK 1 - Mean"
   ]
  },
  {
   "cell_type": "markdown",
   "metadata": {},
   "source": [
    "TASK 1a"
   ]
  },
  {
   "cell_type": "code",
   "execution_count": 3,
   "metadata": {},
   "outputs": [],
   "source": [
    "def mean(lst):\n",
    "    '''This function will return the mean of a list of numbers'''\n",
    "    entries = len(lst)          # find how many entries in the list\n",
    "    total = 0\n",
    "    for num in lst:            \n",
    "        total = total + num     # sum every number in the list\n",
    "    mean = total/entries        # find the mean of the list\n",
    "    return mean                 # return the mean\n"
   ]
  },
  {
   "cell_type": "markdown",
   "metadata": {},
   "source": [
    "TASK 1b"
   ]
  },
  {
   "cell_type": "code",
   "execution_count": 4,
   "metadata": {},
   "outputs": [],
   "source": [
    "# calculating the mean using the function I created\n",
    "mean_ave_temp = mean(avg_temperature)"
   ]
  },
  {
   "cell_type": "markdown",
   "metadata": {},
   "source": [
    "TASK 1c"
   ]
  },
  {
   "cell_type": "code",
   "execution_count": 5,
   "metadata": {},
   "outputs": [
    {
     "name": "stdout",
     "output_type": "stream",
     "text": [
      "The mean average temperature using my function is 10.590°C.\n"
     ]
    }
   ],
   "source": [
    "print ('The mean average temperature using my function is %.3f\\xb0C.'%(mean_ave_temp))"
   ]
  },
  {
   "cell_type": "markdown",
   "metadata": {},
   "source": [
    "TASK 1d"
   ]
  },
  {
   "cell_type": "code",
   "execution_count": 6,
   "metadata": {},
   "outputs": [
    {
     "name": "stdout",
     "output_type": "stream",
     "text": [
      "The mean average temperature using a numpy function is 10.590°C.\n"
     ]
    }
   ],
   "source": [
    "# mean of the average temperature from file using numpy function\n",
    "mean_ave_temp_np = np.mean(avg_temperature)\n",
    "print ('The mean average temperature using a numpy function is %.3f\\xb0C.'%(mean_ave_temp_np))"
   ]
  },
  {
   "cell_type": "code",
   "execution_count": 7,
   "metadata": {},
   "outputs": [
    {
     "data": {
      "text/plain": [
       "True"
      ]
     },
     "execution_count": 7,
     "metadata": {},
     "output_type": "execute_result"
    }
   ],
   "source": [
    "# compare the means calcuated by my fucnction and the numpy function\n",
    "round(mean_ave_temp,3) == round(mean_ave_temp_np,3)"
   ]
  },
  {
   "cell_type": "markdown",
   "metadata": {},
   "source": [
    "The function for mean I created matches the function in numpy to 3 decimal places. "
   ]
  },
  {
   "cell_type": "markdown",
   "metadata": {},
   "source": [
    "TASK 2 - Standard Deviation"
   ]
  },
  {
   "cell_type": "markdown",
   "metadata": {},
   "source": [
    "TASK 2a"
   ]
  },
  {
   "cell_type": "code",
   "execution_count": 8,
   "metadata": {},
   "outputs": [],
   "source": [
    "def std_dev(lst):\n",
    "    '''This function will return the standard deviation of a list of numbers'''\n",
    "    entries = len(lst)          # find how many entries in the list\n",
    "    total = 0\n",
    "    for num in lst:            \n",
    "        total = total + num     # sum every number in the list\n",
    "    mean = total/entries        # find the mean of the list\n",
    "    sum_squares = 0\n",
    "    sum_lst = 0\n",
    "    for item in lst:            \n",
    "        sum_squares = sum_squares + item**2    # loop to sum the squares of list entries\n",
    "        sum_lst = sum_lst + item               # loop to sum the list entries\n",
    "    std = (1/(entries-1)*(sum_squares - sum_lst**2/entries))**.5 # runninig stats std calculation\n",
    "    return std                  # return the standard deviation"
   ]
  },
  {
   "cell_type": "markdown",
   "metadata": {},
   "source": [
    "TASK 2b"
   ]
  },
  {
   "cell_type": "code",
   "execution_count": 9,
   "metadata": {},
   "outputs": [],
   "source": [
    "# calculating the standard deviation of the average temperature data using the function I created\n",
    "std_ave_temp = std_dev(avg_temperature)\n"
   ]
  },
  {
   "cell_type": "markdown",
   "metadata": {},
   "source": [
    "TASK 2c"
   ]
  },
  {
   "cell_type": "code",
   "execution_count": 10,
   "metadata": {
    "scrolled": true
   },
   "outputs": [
    {
     "name": "stdout",
     "output_type": "stream",
     "text": [
      "The average temperature caculated using my function is: 5.797°C\n"
     ]
    }
   ],
   "source": [
    "print (\"The average temperature caculated using my function is: %.3f\\u00b0C\" %std_ave_temp) "
   ]
  },
  {
   "cell_type": "markdown",
   "metadata": {},
   "source": [
    "TASK 2d"
   ]
  },
  {
   "cell_type": "code",
   "execution_count": 11,
   "metadata": {
    "scrolled": true
   },
   "outputs": [
    {
     "name": "stdout",
     "output_type": "stream",
     "text": [
      "The average temperature caculated using a numpy function is: 5.797°C\n"
     ]
    }
   ],
   "source": [
    "print (\"The average temperature caculated using a numpy function is: %.3f\\u00b0C\" %np.std(avg_temperature))"
   ]
  },
  {
   "cell_type": "code",
   "execution_count": 12,
   "metadata": {},
   "outputs": [
    {
     "data": {
      "text/plain": [
       "True"
      ]
     },
     "execution_count": 12,
     "metadata": {},
     "output_type": "execute_result"
    }
   ],
   "source": [
    "# compare the standard deviations calculated by my function and the numpy function\n",
    "round(std_ave_temp,3) == round(np.std(avg_temperature),3)"
   ]
  },
  {
   "cell_type": "markdown",
   "metadata": {},
   "source": [
    "The function for standard deviation I created matches the function in NumPy to 3 decimal places."
   ]
  },
  {
   "cell_type": "markdown",
   "metadata": {},
   "source": [
    "TASK 3 - Histogram"
   ]
  },
  {
   "cell_type": "code",
   "execution_count": 38,
   "metadata": {},
   "outputs": [],
   "source": [
    "def histogram(min_range, max_range, num_bins,pmf,lst):\n",
    "    '''This function creates histogram data: bin locations and bin heights. The parameters include\n",
    "    the minimum and maximum range of the data needed, the number of bins for the histogram, an option to\n",
    "    change the data to a probability mass function, and the data list'''\n",
    "    \n",
    "    bin_width = (max_range - min_range)/num_bins\n",
    "    \n",
    "    # getting locations of bins and save to an array\n",
    "    num = min_range+(bin_width/2)      # first loaction of bin\n",
    "    i = 0\n",
    "    bin_locations = []\n",
    "    while (i < num_bins):\n",
    "        bin_locations.append((num))    # put location of bin in an array\n",
    "        num = num+bin_width            # advance to the next location of bin\n",
    "        i += 1\n",
    "    \n",
    "    # finding all numbers that are in the range and fit them in a bin by making the number a multiple \n",
    "    #    of the bin size and excluding others not in range by making them less than 0 \n",
    "    range_list = [math.floor((item-min_range)/bin_width) if (item >= min_range and item <= max_range) else -item for item in lst]\n",
    "    j=0\n",
    "    bin_counts = []\n",
    "    while (j < num_bins):\n",
    "        bin_counts.append(range_list.count(j))  # count the number of occurances of the multiples of bin size for each bin\n",
    "        j += 1\n",
    "    \n",
    "    # if the user wants a probability mass funcition of the bin counts\n",
    "    if (pmf == True):    \n",
    "        pmf_bin_counts = []\n",
    "        for x in bin_counts:\n",
    "            pmf_bin_counts.append(x/sum(bin_counts))  # convertiing bin counts to pmf\n",
    "        bin_counts = pmf_bin_counts                   # reassigning bin counts to the pmf bin counts\n",
    "    bin_data = [bin_counts,bin_locations]             # creating a 2D array for the bin data\n",
    "    \n",
    "    return bin_data       # return bin data which includes bin counts and locations"
   ]
  },
  {
   "cell_type": "code",
   "execution_count": 14,
   "metadata": {},
   "outputs": [],
   "source": [
    "import math\n",
    "import matplotlib.pyplot as plt"
   ]
  },
  {
   "cell_type": "code",
   "execution_count": 39,
   "metadata": {},
   "outputs": [],
   "source": [
    "# setting range and number of bins\n",
    "min_range = -10\n",
    "max_range = 30\n",
    "num_bins = 30\n",
    "pmf = False\n",
    "bin_width = (max_range - min_range)/num_bins\n",
    "\n",
    "# create histogram data using my histogram function using the above parameters\n",
    "ave_temp_histogram_data = histogram(min_range,max_range,num_bins,pmf,avg_temperature)"
   ]
  },
  {
   "cell_type": "code",
   "execution_count": 40,
   "metadata": {},
   "outputs": [
    {
     "name": "stdout",
     "output_type": "stream",
     "text": [
      "10.598926559322598\n",
      "5.805700658018811\n"
     ]
    }
   ],
   "source": [
    "occurances = ave_temp_histogram_data[0]\n",
    "temperatures = ave_temp_histogram_data[1]\n",
    "\n",
    "# finding the mean of histogram data\n",
    "result = []\n",
    "for i1, i2 in zip(occurances,temperatures):  \n",
    "    result.append(i1*i2)                       # muliply the two data sets and saving to a new array\n",
    "mean_hist = sum(result)/sum(occurances)        # calculating the mean of the histogram data sets\n",
    "print(mean_hist)\n",
    "\n",
    "# finding the standard deviation of histogram data\n",
    "result2 = []\n",
    "for i3, i4 in zip(occurances,temperatures):\n",
    "    result2.append(i3*(i4-mean_hist)**2)         # finding the deviation from the mean, squaring and multiplying by occurances\n",
    "std_hist = (sum(result2)/(sum(occurances)))**.5  # calculating the standard deviation of the histogram data sets\n",
    "print(std_hist)\n"
   ]
  },
  {
   "cell_type": "code",
   "execution_count": 42,
   "metadata": {},
   "outputs": [
    {
     "data": {
      "image/png": "[encoded data removed]",
      "text/plain": [
       "<Figure size 432x288 with 1 Axes>"
      ]
     },
     "metadata": {
      "needs_background": "light"
     },
     "output_type": "display_data"
    }
   ],
   "source": [
    "bin_height = occurances\n",
    "bin_location = temperatures\n",
    "\n",
    "fig = plt.figure()\n",
    "x_axis = np.arange(-10, 30, 0.01)\n",
    "plt.bar(bin_location,bin_height,bin_width)   \n",
    "plt.plot(x_axis, (norm.pdf(x_axis,mean_hist,std_hist))*13000, \"r-\")\n",
    "plt.text(22, 800, r'$\\bar{x}=$%.3f' u'\\xb0C' % (mean_hist)) \n",
    "plt.text(22, 750, r'$\\sigma=$%.3f'u'\\xb0C' % (std_hist))\n",
    "plt.title('Temperatures Using My Histogram Function')\n",
    "plt.ylabel('Number of Occurances')\n",
    "plt.xlabel('Average Temperature, \\xb0C')\n",
    "plt.savefig(\"YVR_Ave_Temp_Histo.pdf\", dpi=150)\n",
    "plt.show()"
   ]
  },
  {
   "cell_type": "code",
   "execution_count": 16,
   "metadata": {
    "scrolled": true
   },
   "outputs": [
    {
     "name": "stdout",
     "output_type": "stream",
     "text": [
      "9.93225989265593\n",
      "5.805700658018811\n"
     ]
    }
   ],
   "source": [
    "# create histogram data using NumPy and the same min and max range and number of bins as above\n",
    "ave_temp_numpy_histogram_data = np.histogram(avg_temperature,num_bins,(min_range,max_range))\n",
    "\n",
    "# finding the mean of histogram data\n",
    "result_np = []\n",
    "occurances_np = ave_temp_numpy_histogram_data[0]        # assigning \n",
    "temperatures_np = ave_temp_numpy_histogram_data[1]\n",
    "\n",
    "for i1, i2 in zip(occurances_np,temperatures_np):  \n",
    "    result_np.append(i1*i2)                             # muliply the two data sets and saving to a new array\n",
    "mean_hist_np = sum(result_np)/sum(occurances_np)        # calculating the mean of the histogram data sets\n",
    "print(mean_hist_np)\n",
    "\n",
    "# finding the standard deviation of histogram data\n",
    "result2_np = []\n",
    "for i3, i4 in zip(occurances_np,temperatures_np):\n",
    "    result2_np.append(i3*(i4-mean_hist_np)**2)       # finding the deviation from the mean, squaring and multiplying by occurances\n",
    "std_hist_np = (sum(result2_np)/(sum(occurances_np)))**.5  # calculating the standard deviation of the histogram data sets\n",
    "print(std_hist_np)"
   ]
  },
  {
   "cell_type": "markdown",
   "metadata": {},
   "source": [
    "The mean of temperatures from NumPy is not aligning with what I had calculated in the for the full data set or the mean of my histogram data. So I decided to inpect what was happening."
   ]
  },
  {
   "cell_type": "code",
   "execution_count": 17,
   "metadata": {
    "scrolled": true
   },
   "outputs": [
    {
     "name": "stdout",
     "output_type": "stream",
     "text": [
      "31\n",
      "30\n",
      "[-10.          -8.66666667  -7.33333333  -6.          -4.66666667\n",
      "  -3.33333333  -2.          -0.66666667   0.66666667   2.\n",
      "   3.33333333   4.66666667   6.           7.33333333   8.66666667\n",
      "  10.          11.33333333  12.66666667  14.          15.33333333\n",
      "  16.66666667  18.          19.33333333  20.66666667  22.\n",
      "  23.33333333  24.66666667  26.          27.33333333  28.66666667\n",
      "  30.        ]\n",
      "[-9.333333333333334, -8.0, -6.666666666666667, -5.333333333333334, -4.000000000000001, -2.666666666666668, -1.3333333333333346, -1.3322676295501878e-15, 1.333333333333332, 2.666666666666665, 3.9999999999999982, 5.333333333333331, 6.666666666666664, 7.999999999999997, 9.33333333333333, 10.666666666666664, 11.999999999999998, 13.333333333333332, 14.666666666666666, 16.0, 17.333333333333332, 18.666666666666664, 19.999999999999996, 21.33333333333333, 22.66666666666666, 23.999999999999993, 25.333333333333325, 26.666666666666657, 27.99999999999999, 29.33333333333332]\n"
     ]
    }
   ],
   "source": [
    "# checking length of the lists and the contents\n",
    "print (len(temperatures_np))\n",
    "print (len(temperatures))\n",
    "print (temperatures_np)\n",
    "print (temperatures)"
   ]
  },
  {
   "cell_type": "markdown",
   "metadata": {},
   "source": [
    "I looks like NumPy gives one extra data point for the end, the max range number, and all the data starts at the beginning of the range. So I am converting the data to remove the last data point and shift temperature so that it lies in the middle of the bin range."
   ]
  },
  {
   "cell_type": "code",
   "execution_count": 18,
   "metadata": {},
   "outputs": [],
   "source": [
    "# fixing Numpy temperature data set\n",
    "temperatures_np = temperatures_np[:-1]                      # removes last data point\n",
    "bin_width_np =(temperatures_np[1]-temperatures_np[0])/2     # shift needed for the middle of bin\n",
    "bin_locations_np = []\n",
    "for num in temperatures_np:\n",
    "    bin_locations_np.append(num+bin_width_np)               # shifts temperatures to the middle of the bin\n",
    "\n"
   ]
  },
  {
   "cell_type": "code",
   "execution_count": 30,
   "metadata": {},
   "outputs": [
    {
     "name": "stdout",
     "output_type": "stream",
     "text": [
      "10.5989265593226\n"
     ]
    }
   ],
   "source": [
    "bin_height_np = occurances_np    \n",
    "\n",
    "# recaculating the mean of the histogram data from NumPy\n",
    "result_np = []\n",
    "for i1, i2 in zip(occurances_np,bin_locations_np):  \n",
    "    result_np.append(i1*i2)                             # muliply the two data sets and saving to a new array\n",
    "mean_hist_np = sum(result_np)/sum(occurances_np)        # calculating the mean of the histogram data sets\n",
    "print(mean_hist_np)"
   ]
  },
  {
   "cell_type": "code",
   "execution_count": 44,
   "metadata": {},
   "outputs": [
    {
     "data": {
      "image/png": "[encoded data removed]",
      "text/plain": [
       "<Figure size 432x288 with 1 Axes>"
      ]
     },
     "metadata": {
      "needs_background": "light"
     },
     "output_type": "display_data"
    }
   ],
   "source": [
    "plt.bar(bin_locations_np,bin_height_np,bin_width)       # create a bar graph with the histogram data from NumPy\n",
    "plt.plot(x_axis, (norm.pdf(x_axis,mean_hist_np,std_hist_np))*13000, \"r-\")  # plot a normal distribution curve based on the mean and std of the Numpy histogram data\n",
    "plt.text(22, 800, r'$\\bar{x}=$%.3f' u'\\xb0C' % (mean_hist_np)) \n",
    "plt.text(22, 750, r'$\\sigma=$%.3f'u'\\xb0C' % (std_hist_np))\n",
    "plt.title('Temperatures Using NumPy Histogram Function')\n",
    "plt.ylabel('Number of Occurances')\n",
    "plt.xlabel('Average Temperature, \\xb0C')\n",
    "plt.savefig(\"YVR_Ave_Temp_Histo_Numpy.pdf\", dpi=150)\n",
    "plt.show()"
   ]
  },
  {
   "cell_type": "markdown",
   "metadata": {},
   "source": [
    "TASK 4 - Box-Muller Transformation"
   ]
  },
  {
   "cell_type": "markdown",
   "metadata": {},
   "source": [
    "TASK 4a"
   ]
  },
  {
   "cell_type": "code",
   "execution_count": 80,
   "metadata": {},
   "outputs": [],
   "source": [
    "def box_muller_trans (list_u1,list_u2):\n",
    "    '''This function takes two lists numbers that are uniformly distributed, applies \n",
    "    the Box Muller Transformation and returns two lists of normally distributed numbers'''\n",
    "    \n",
    "    list_z1 = []\n",
    "    list_z2 = []\n",
    "    \n",
    "    # these loops apply the Box Muller Tansformation to the to lists of numbers\n",
    "    for num1, num2 in zip(list_u1,list_u2):\n",
    "        list_z1.append(math.sqrt(-2*math.log(num1))*math.cos(2*math.pi*num2))\n",
    "    for num1, num2 in zip(list_u1,list_u2):\n",
    "        list_z2.append(math.sqrt(-2*math.log(num1))*math.sin(2*math.pi*num2))\n",
    "        \n",
    "    return list_z1,list_z2   #returns the two lists of normally distributed numbers\n"
   ]
  },
  {
   "cell_type": "markdown",
   "metadata": {},
   "source": [
    "TASK 4b"
   ]
  },
  {
   "cell_type": "code",
   "execution_count": 81,
   "metadata": {
    "scrolled": true
   },
   "outputs": [],
   "source": [
    "rand_1 = np.random.uniform(0,1,10000) # create a list of random numbers uniformly distributed\n",
    "rand_2 = np.random.uniform(0,1,10000) # create a list of random numbers uniformly distributed\n",
    "z1, z2 = box_muller_trans(rand_1, rand_2) # used the Box Muller Tranformation function to \n",
    "                                           \n"
   ]
  },
  {
   "cell_type": "code",
   "execution_count": 91,
   "metadata": {
    "scrolled": false
   },
   "outputs": [
    {
     "data": {
      "image/png": "[encoded data removed]",
      "text/plain": [
       "<Figure size 432x288 with 1 Axes>"
      ]
     },
     "metadata": {
      "needs_background": "light"
     },
     "output_type": "display_data"
    },
    {
     "data": {
      "image/png": "[encoded data removed]",
      "text/plain": [
       "<Figure size 432x288 with 1 Axes>"
      ]
     },
     "metadata": {
      "needs_background": "light"
     },
     "output_type": "display_data"
    },
    {
     "data": {
      "image/png": "[encoded data removed]",
      "text/plain": [
       "<Figure size 432x288 with 1 Axes>"
      ]
     },
     "metadata": {
      "needs_background": "light"
     },
     "output_type": "display_data"
    }
   ],
   "source": [
    "plt.hist(z1, bins=50)      # plot a histogram of normally distributed numbers in z1 that used BMT with 50 bins\n",
    "plt.title('Box Muller Transformation')\n",
    "plt.ylabel('Number of Occurances')\n",
    "plt.xlabel('Random Numbers After BMT (z1)')\n",
    "plt.show()   \n",
    "\n",
    "plt.hist(z2, bins=50)      # plot a histogram of normally distributed numbers in z2 that used BMT with 50 bins\n",
    "plt.title('Box Muller Transformation')\n",
    "plt.ylabel('Number of Occurances')\n",
    "plt.xlabel('Random Numbers After BMT (z2)')\n",
    "plt.show()\n",
    "\n",
    "norm_dist = np.random.normal(0,1,10000)  # create a list of numbers normally distributed using NumPy\n",
    "\n",
    "plt.hist(z2, bins=50)      # plot a histogram of normally distributed numbers created by NumPy with 50 bins\n",
    "plt.title('Box Muller Transformation')\n",
    "plt.title('Normal Random Numbers from NumPy')\n",
    "plt.ylabel('Number of Occurances')\n",
    "plt.xlabel('Random Numbers Using NumPy')\n",
    "plt.show()\n"
   ]
  },
  {
   "cell_type": "markdown",
   "metadata": {},
   "source": [
    "Comparing the histograms of the two BMT number lists z1 and z2, and the histogram of a normally distributed number list created by Numpy, it is easy to see that all three number sets are normally distributed and are very similar. "
   ]
  }
 ],
 "metadata": {
  "kernelspec": {
   "display_name": "Python 3",
   "language": "python",
   "name": "python3"
  },
  "language_info": {
   "codemirror_mode": {
    "name": "ipython",
    "version": 3
   },
   "file_extension": ".py",
   "mimetype": "text/x-python",
   "name": "python",
   "nbconvert_exporter": "python",
   "pygments_lexer": "ipython3",
   "version": "3.8.5"
  }
 },
 "nbformat": 4,
 "nbformat_minor": 4
}
