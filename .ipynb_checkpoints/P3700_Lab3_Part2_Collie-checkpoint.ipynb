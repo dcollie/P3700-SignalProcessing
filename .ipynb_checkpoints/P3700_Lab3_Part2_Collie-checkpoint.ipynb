{
 "cells": [
  {
   "cell_type": "markdown",
   "metadata": {},
   "source": [
    "PHYS 3700 Lab 3 Part 2"
   ]
  },
  {
   "cell_type": "markdown",
   "metadata": {},
   "source": [
    "Part II Recursive Filters. In this part, you’ll design low-pass, high-pass, band-pass and band-reject filters using recursive equations. It will be easier now to modify your filters for different frequency cutoffs. These filters will run faster than your convolution filters from last week, but keep in mind there is a trade-off that we will look at next week.\n",
    "\n",
    "1.Using Equations 19-2 to 19-5, 19-7, and 19-8 from our online text design functions for a low-pass, high-pass, band-pass and band-reject recursive filter. Your low and high-pass function should take the input signal and $f_{c}$ in units of the sampling frequency and return the output after applying the filter to the input signal. The band pass and reject filters should take the input signal, centre frequency and bandwidth (both in units of sampling frequency)."
   ]
  },
  {
   "cell_type": "markdown",
   "metadata": {},
   "source": [
    "Equation 19.2: Single pole low-pass filter. The Filter's response is controlled by the parameter, $x$, a vlue between zero and one.\n",
    "\n",
    "$$a_{0}= 1-x$$\n",
    "$$b_{1} = x$$\n"
   ]
  },
  {
   "cell_type": "markdown",
   "metadata": {},
   "source": [
    "Equation 19.3: Single pole high-pass filter.\n",
    "$$a_{0}= (1+x)/2$$\n",
    "$$a_{1}= -(1+x)/2$$\n",
    "$$b_{1} = x$$"
   ]
  },
  {
   "cell_type": "markdown",
   "metadata": {},
   "source": [
    "Equation 19.4: Time constant of single pole filters. This equation relates the amount of decay between samples. $x$, with the filter's time constant, $d$, the number of samples for the filter to decay to 36.8%.\n",
    "$$x=e^{-1/d}$$"
   ]
  },
  {
   "cell_type": "markdown",
   "metadata": {},
   "source": [
    "Equation 19.5: Cutoff frequency of single pole filters. The amount of decay between samples, $x$, is related to the cutoff frequency of the filter, $f_{c}$, a value between 0 and 0.5.\n",
    "$$x=e^{-2\\pi f_{c}}$$"
   ]
  },
  {
   "cell_type": "markdown",
   "metadata": {},
   "source": [
    "Equation 19.7: Band-pass filter. To use these equations, first select the centre frequency, $f$,  and the bandwidth, $BW$. Both of these are expressed as a fraction of the sampling rate, and therefore in the range of 0 to 0.5. Next, calculate $R$, and then $K$, and then the recusrion coefficients. \n",
    "\n",
    "$$a_{0}= 1-K$$\n",
    "$$a_{1}= 2(K-R)cos(2\\pi f)$$\n",
    "$$a_{2}= R^{2}-K$$\n",
    "$$b_{1} = 2R cos(2\\pi f)$$\n",
    "$$b_{2} = -R^{2}$$"
   ]
  },
  {
   "cell_type": "markdown",
   "metadata": {},
   "source": [
    "Equation 19.8: Band-reject filter. This filter is commonly called a notch filter. \n",
    "\n",
    "$$a_{0}= K$$\n",
    "$$a_{1}= -2Kcos(2\\pi f)$$\n",
    "$$a_{2}= K$$\n",
    "$$b_{1} = 2R cos(2\\pi f)$$\n",
    "$$b_{2} = -R^{2}$$"
   ]
  },
  {
   "cell_type": "markdown",
   "metadata": {},
   "source": []
  },
  {
   "cell_type": "markdown",
   "metadata": {},
   "source": []
  },
  {
   "cell_type": "markdown",
   "metadata": {},
   "source": []
  },
  {
   "cell_type": "markdown",
   "metadata": {},
   "source": [
    "\n",
    "2.Generate a 500 Hz square wave with scipy.signal.square that lasts 0.01s. Sample at 50,000 Hz and add uniform noise between −0.3 and 0.3. Plot the wave."
   ]
  },
  {
   "cell_type": "code",
   "execution_count": null,
   "metadata": {},
   "outputs": [],
   "source": []
  },
  {
   "cell_type": "markdown",
   "metadata": {},
   "source": [
    "3.Low-pass filter.\n",
    "\n",
    "(a) Apply your low-pass recursive filter to your noisy square wave. Choose a cutoff frequency that reduces the noise, but does not distort the shape of the square wave. Print your chosen cutoff frequency directly on a plot of the smoothed wave."
   ]
  },
  {
   "cell_type": "code",
   "execution_count": null,
   "metadata": {},
   "outputs": [],
   "source": []
  },
  {
   "cell_type": "markdown",
   "metadata": {},
   "source": [
    "(b) Again, apply the low-pass recursive filter to your noisy square wave, but this time choose a frequency lower than the cutoff frequency so your wave becomes distorted. You should see that the wave is no longer symmetric. Print your chosen cutoff frequency directly on a plot of the smoothed asymmetric wave."
   ]
  },
  {
   "cell_type": "code",
   "execution_count": null,
   "metadata": {},
   "outputs": [],
   "source": []
  },
  {
   "cell_type": "markdown",
   "metadata": {},
   "source": [
    "\n",
    "(c) Using the information in and around Equation 19-9, apply your low-pass filter to your smoothed asymmetric wave to make it symmetric."
   ]
  },
  {
   "cell_type": "code",
   "execution_count": null,
   "metadata": {},
   "outputs": [],
   "source": []
  },
  {
   "cell_type": "markdown",
   "metadata": {},
   "source": [
    "(d) Generate a 500 Hz square wave with scipy.signal.square that lasts 1.0s. Sample at 50,000 Hz and add uniform noise between −0.3 and 0.3. Compare the times needed to smooth your noisy square wave with the low-pass recursive filter and with your low-pass moving average filter from Lab 2. Implement your moving average filter with your convolution function you also wrote in Lab 2. Be sure to only time the part of your code that’s doing the filtering. You may want to do a few trials and report the averages."
   ]
  },
  {
   "cell_type": "code",
   "execution_count": null,
   "metadata": {},
   "outputs": [],
   "source": []
  },
  {
   "cell_type": "markdown",
   "metadata": {},
   "source": [
    "4.High-pass filter.\n",
    "\n",
    "(a) Apply your high-pass recursive filter to your noisy square wave. Choose a cutoff frequency that highlights the edges of the wave. Print your chosen cutoff frequency directly on a plot of the smoothed wave."
   ]
  },
  {
   "cell_type": "code",
   "execution_count": null,
   "metadata": {},
   "outputs": [],
   "source": []
  },
  {
   "cell_type": "markdown",
   "metadata": {},
   "source": [
    "(b) Apply your high-pass recursive filter to the following wave. Use a cutoff frequency of 100 Hz. Describe what happened to the wave.\n",
    "       \n",
    "       A=2\n",
    "       f=50.0\n",
    "       T=1/f\n",
    "       fs=50*f\n",
    "       Ts=1/fs\n",
    "       cycles=3\n",
    "       t=np.arange(0,cycles*T,Ts)\n",
    "       i=0\n",
    "       x=[0.]*len(t)\n",
    "       while i < len(t):\n",
    "           x[i]=A*np.sin(2*np.pi*f*t[i])+A*np.sin(.2*np.pi*f*t[i])+np.random.normal(0,.2)\n",
    "           i+=1"
   ]
  },
  {
   "cell_type": "code",
   "execution_count": null,
   "metadata": {},
   "outputs": [],
   "source": []
  },
  {
   "cell_type": "markdown",
   "metadata": {},
   "source": [
    "\n",
    "5.Band-pass and Band-reject filters. Apply your versions of these two filters to your CFA chord from Lab 2. Use the band-pass to pass the A and use the band-reject to reject the A. You don’t have to write out/hand in wav files, but do produce FFT graphs showing that your filters are working as intended."
   ]
  },
  {
   "cell_type": "code",
   "execution_count": null,
   "metadata": {},
   "outputs": [],
   "source": []
  }
 ],
 "metadata": {
  "kernelspec": {
   "display_name": "Python 3",
   "language": "python",
   "name": "python3"
  },
  "language_info": {
   "codemirror_mode": {
    "name": "ipython",
    "version": 3
   },
   "file_extension": ".py",
   "mimetype": "text/x-python",
   "name": "python",
   "nbconvert_exporter": "python",
   "pygments_lexer": "ipython3",
   "version": "3.8.5"
  }
 },
 "nbformat": 4,
 "nbformat_minor": 4
}
