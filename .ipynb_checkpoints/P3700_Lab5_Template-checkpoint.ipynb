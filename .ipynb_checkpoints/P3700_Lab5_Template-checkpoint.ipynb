{
 "cells": [
  {
   "cell_type": "markdown",
   "metadata": {},
   "source": [
    "**Physics 3700 Lab 5**\n",
    "\n",
    "*All requested plots need to be fully labelled. In addition to functional code, please fully explain what you’re doing and declare variables either by commenting your code or using markdown cells. Submit it to our course Moodle site.*\n",
    "\n",
    "*In this lab you will be investigating the characteristics of the Discrete Fourier Transform (DFT) and the Inverse Discrete Fourier Transform (IDFT).*\n",
    "\n",
    "$$X[k] = \\sum_{n=0}^{N-1}x[n]e^{-j2\\pi\\frac{k}{N}n}$$\n",
    "\n",
    "$$x[n] = \\frac{1}{N}\\sum_{k=0}^{N-1}X[k]e^{j2\\pi\\frac{k}{N}n}$$"
   ]
  },
  {
   "cell_type": "markdown",
   "metadata": {},
   "source": [
    "***1. Warm up.***\n",
    "\n",
    "*(a) Write a function to perform the DFT. It should take in an input list and return a list containing\n",
    "the elements of the DFT.*"
   ]
  },
  {
   "cell_type": "code",
   "execution_count": null,
   "metadata": {},
   "outputs": [],
   "source": []
  },
  {
   "cell_type": "markdown",
   "metadata": {},
   "source": [
    "*(b) Write a function to perform the IDFT. It should take in an input list in the frequency domain and return a list containing the elements in the time domain.*"
   ]
  },
  {
   "cell_type": "code",
   "execution_count": null,
   "metadata": {},
   "outputs": [],
   "source": []
  },
  {
   "cell_type": "markdown",
   "metadata": {},
   "source": [
    "*(c) Produce 100 cycles of a sine wave with a frequency of 60 Hz that is sampled at 256 Hz.*"
   ]
  },
  {
   "cell_type": "code",
   "execution_count": null,
   "metadata": {},
   "outputs": [],
   "source": []
  },
  {
   "cell_type": "markdown",
   "metadata": {},
   "source": [
    "*(d) Test your DFT function on the sine and check that it gives you the same results as* numpy.fft.fft."
   ]
  },
  {
   "cell_type": "code",
   "execution_count": null,
   "metadata": {},
   "outputs": [],
   "source": []
  },
  {
   "cell_type": "markdown",
   "metadata": {},
   "source": [
    "*(e) Test your IDFT function and check that it returns the sine wave.*"
   ]
  },
  {
   "cell_type": "code",
   "execution_count": null,
   "metadata": {},
   "outputs": [],
   "source": []
  },
  {
   "cell_type": "markdown",
   "metadata": {},
   "source": [
    "*(f) Using your DFT function, produce a stem plot of the DFT using the first 128 samples.*"
   ]
  },
  {
   "cell_type": "code",
   "execution_count": null,
   "metadata": {},
   "outputs": [],
   "source": []
  },
  {
   "cell_type": "markdown",
   "metadata": {},
   "source": [
    "*(g) Using your DFT function, produce a stem plot of the DFT using the first 130 samples and explain why this graph looks different than the one above. (Hint: It may be clearer if you plot the DFT against Hz instead of sample number).*"
   ]
  },
  {
   "cell_type": "code",
   "execution_count": null,
   "metadata": {},
   "outputs": [],
   "source": []
  },
  {
   "cell_type": "markdown",
   "metadata": {},
   "source": [
    "*(h) Using your DFT function, produce a stem plot of the DFT using the first 260 samples and explain why this graph looks different than the one above.*"
   ]
  },
  {
   "cell_type": "code",
   "execution_count": null,
   "metadata": {},
   "outputs": [],
   "source": []
  },
  {
   "cell_type": "markdown",
   "metadata": {},
   "source": [
    "*(i) Remember that the DFT is a sampled version of the DTFT. To approximate the continuous DTFT (small sampling spacing, high frequency resolution) we can pad the signals with zeros. Take your first 128 samples of the sine wave and add 500 zeros after the last sample. Plot your DFT of this 628 element signal (use an actual plot instead of stem now). Describe the differences between this plot and the one obtained without zero-padding.*"
   ]
  },
  {
   "cell_type": "code",
   "execution_count": null,
   "metadata": {},
   "outputs": [],
   "source": []
  },
  {
   "cell_type": "markdown",
   "metadata": {},
   "source": [
    "*(j) The ringing you saw in your last graph comes from “windowing” the 128 samples. Cutting out the 128 samples like that is equivalent to applying a square window to the 128 samples. One way to reduce the ringing is to apply a weighted window to the 128 sample points before zero-padding. Using your window functions from this week, apply the Hanning window, the Hamming window and the Blackman window in 3 different trials. Plot the resulting DFTs and compare the results of the 3 windows vs. the square window.*"
   ]
  },
  {
   "cell_type": "code",
   "execution_count": null,
   "metadata": {},
   "outputs": [],
   "source": []
  },
  {
   "cell_type": "markdown",
   "metadata": {},
   "source": [
    "***2. Averaging DFTs.*** *One way to reduce noise in the DFT is to average a number of DFTS of segments of an input.*"
   ]
  },
  {
   "cell_type": "code",
   "execution_count": null,
   "metadata": {},
   "outputs": [],
   "source": []
  },
  {
   "cell_type": "markdown",
   "metadata": {},
   "source": [
    "*(a) Generate 300 cycles of a noisy square wave with the following function. Set f = 20 Hz and the sampling frequency equal to 800 Hz. Plot a segment of your wave.*\n",
    "$$x(t) = \\frac{4}{\\pi}\\sum_{k=1}^{7}\\frac{sin(2\\pi(2k-1)ft)}{2k-1}$$\n",
    "\n",
    "*At each sample, add the following noise.* np.random.normal(0,.3)"
   ]
  },
  {
   "cell_type": "code",
   "execution_count": null,
   "metadata": {},
   "outputs": [],
   "source": []
  },
  {
   "cell_type": "markdown",
   "metadata": {},
   "source": [
    "*(b) Split the signal into 10 equal segments and apply your DFT to each segment. Plot the DFT of one of the segments.*"
   ]
  },
  {
   "cell_type": "code",
   "execution_count": null,
   "metadata": {},
   "outputs": [],
   "source": []
  },
  {
   "cell_type": "markdown",
   "metadata": {},
   "source": [
    "*(c) Stack (i.e. average) the 10 DFTs into 1 DFT and plot the average and one segment’s DFT on the same plot. Comment on differences.*"
   ]
  },
  {
   "cell_type": "code",
   "execution_count": null,
   "metadata": {},
   "outputs": [],
   "source": []
  },
  {
   "cell_type": "markdown",
   "metadata": {},
   "source": [
    "*(d) Apply your IDFT function to the averaged DFT and plot the resulting waveform. You can cheat a little and zero the elements of the higher frequencies you’re sure shouldn’t be there. This is just for visual effect. If you don’t know what frequencies your signal contains you shouldn’t be doing this.*"
   ]
  },
  {
   "cell_type": "code",
   "execution_count": null,
   "metadata": {},
   "outputs": [],
   "source": []
  },
  {
   "cell_type": "markdown",
   "metadata": {},
   "source": [
    "***3. Convolution in the Frequency Domain.*** *Sometimes you’ll want to avoid a convolution in the time domain. A convolution in the time domain is equivalent to a multiplication in the frequency domain. An application of this idea is when you have an output and a theoretical impulse function and you would like to perform a deconvolution to obtain the original input/signal. This is common in imaging when you would like to remove the effects of the optics (medical or astronomical images).*\n",
    "\n",
    "*(a) Two labs ago you performed a convolution to smooth the following noisy input. Redo the following so you have a reference output. Convolve the signal with a 20 point sinc function to smooth the noise.*\n",
    "\n",
    "       A=2\n",
    "       f=50.0\n",
    "       T=1/f\n",
    "       fs=50*f\n",
    "       Ts=1/fs\n",
    "       cycles=5\n",
    "       t=np.arange(0,cycles*T,Ts)\n",
    "       i=0\n",
    "       x=[0.]*len(t)\n",
    "       while i < len(t):\n",
    "           x[i]=A*np.sin(2*np.pi*f*t[i])+A*np.sin(.5*np.pi*f*t[i])+np.random.normal(0,.2)\n",
    "           i+=1\n",
    "       plt.plot(x)\n",
    "       plt.show()"
   ]
  },
  {
   "cell_type": "code",
   "execution_count": null,
   "metadata": {},
   "outputs": [],
   "source": []
  },
  {
   "cell_type": "markdown",
   "metadata": {},
   "source": [
    "*(e) Apply your DFT to the output and the Hamming window. Divide the DFT of the output by the DFT of the Hamming window. Apply your IDFT function to the result of the division.*"
   ]
  },
  {
   "cell_type": "code",
   "execution_count": null,
   "metadata": {},
   "outputs": [],
   "source": []
  },
  {
   "cell_type": "markdown",
   "metadata": {},
   "source": [
    "*(f) Plot the actual input and the input found by the division above on the same plot to check that they match. Comment on any differences. This usually isn’t the ideal method to apply since noise in the denominator DFT could give you values very close to or exactly zero.*"
   ]
  },
  {
   "cell_type": "code",
   "execution_count": null,
   "metadata": {},
   "outputs": [],
   "source": []
  },
  {
   "cell_type": "markdown",
   "metadata": {},
   "source": [
    "***4. Voice Scrambling, Spectral Inversion and Amplitude Modulation.*** *Amplitude modulation is an example multiplication in the time domain corresponding to convolution in the frequency domain. It’s also an example of how negative frequencies enter into everyday science and engineering problems. Modulation is the process of merging two signals to form a third signal with desirable characteristics of both. This always involves nonlinear processes such as multiplication; you can’t just add the two signals together. In radio communication, modulation results in radio signals that can propagate long distances and carry along audio or other information. We’re not going to merge your voice with a radio wave, but we can merge it with another carrier wave which while it’s being carried, will act to scramble your voice. This isn’t a secure method of voice scrambling. Chapter 10 in your text has a description of amplitude modulation. The following process is called spectrum inversion and as we’ll see, shifts negative frequencies into positive ones.*\n",
    "\n",
    "*(a) Using your quick-brown-fox wav file from Lab 1 (or a new one) as the input, convolve it with a low-pass filter with a cut-off frequency ($f_0$) that is high enough not to distort your speech. Plot the DFT of your filtered signal.*"
   ]
  },
  {
   "cell_type": "code",
   "execution_count": null,
   "metadata": {},
   "outputs": [],
   "source": []
  },
  {
   "cell_type": "markdown",
   "metadata": {},
   "source": [
    "*(b) Now modulate (multiply) your filtered signal with a carrier cosine function.*\n",
    "\n",
    "$$c[n] = 2cos\\left(\\frac{2\\pi f_0n}{f_x}\\right)$$"
   ]
  },
  {
   "cell_type": "code",
   "execution_count": null,
   "metadata": {},
   "outputs": [],
   "source": []
  },
  {
   "cell_type": "markdown",
   "metadata": {},
   "source": [
    "*(c) Plot the DFT of your new modulated signal and describe the difference between this and the\n",
    "first DFT.*"
   ]
  },
  {
   "cell_type": "code",
   "execution_count": null,
   "metadata": {},
   "outputs": [],
   "source": []
  },
  {
   "cell_type": "markdown",
   "metadata": {},
   "source": [
    "*(d) Now apply the same low-pass filter you used above. This time it should remove the “normal” (positive) frequencies and retain the negative (inverted) frequencies that were shifted forward by multiplying by the above cosine. Again, plot the DFT of your filtered-modulated-filtered signal.*"
   ]
  },
  {
   "cell_type": "code",
   "execution_count": null,
   "metadata": {},
   "outputs": [],
   "source": []
  },
  {
   "cell_type": "markdown",
   "metadata": {},
   "source": [
    "*(e) This is your scrambled voice with the low frequencies swapped with the high frequencies. Save the wav file.*"
   ]
  },
  {
   "cell_type": "code",
   "execution_count": null,
   "metadata": {},
   "outputs": [],
   "source": []
  },
  {
   "cell_type": "markdown",
   "metadata": {},
   "source": [
    "*(f) To unscramble your voice, apply the filter-modulate-filter steps again. Check that your voice is now unscrambled.*"
   ]
  },
  {
   "cell_type": "code",
   "execution_count": null,
   "metadata": {},
   "outputs": [],
   "source": []
  }
 ],
 "metadata": {
  "kernelspec": {
   "display_name": "Python 3",
   "language": "python",
   "name": "python3"
  },
  "language_info": {
   "codemirror_mode": {
    "name": "ipython",
    "version": 3
   },
   "file_extension": ".py",
   "mimetype": "text/x-python",
   "name": "python",
   "nbconvert_exporter": "python",
   "pygments_lexer": "ipython3",
   "version": "3.8.5"
  }
 },
 "nbformat": 4,
 "nbformat_minor": 4
}
