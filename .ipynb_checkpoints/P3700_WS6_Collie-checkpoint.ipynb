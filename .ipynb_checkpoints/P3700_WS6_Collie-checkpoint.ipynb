{
 "cells": [
  {
   "cell_type": "markdown",
   "metadata": {},
   "source": [
    "**Physics 3700 Worksheet 6**\n",
    "\n",
    "*This is the windowing worksheet. Because digital filters and signals are finite, what happens at the beginning and ends of a signal affect how things are processed. This week’s worksheet and lab will take a closer look at windowing. Windowing is necessary because we will never have an infinite signal, but windowing results in the degradation of the intended filter response. For example, the square pulse filter was presented as a low-pass filter, but we didn’t specify a frequency cutoff. Ideally the filter would pass low frequencies up to $f_c$ and not pass any frequencies higher. We’ll see (or you’ve already seen) that this does not happen. Frequencies higher than fc cannot be totally attenuated. The use of windows can help. The table below shows a few common filters and their properties.*\n",
    "\n",
    "|Window Type| Window Function $\\frac{N−1}{2} $| Number of Terms In <br> Window, $N$ | Filter Stop Band <br> Attenuation (dB)|\n",
    "| :--- | :---: | :---: | :---: |\n",
    "| Rectangular | 1 | 0.91$\\frac{f_s}{T.W.}$ | 21|\n",
    "| Hanning | 0.5 + 0.5 $cos\\left(\\frac{2\\pi n}{N-1}\\right)$ | $ 3.32\\frac{f_s}{T.W.}$|44|\n",
    "| Hamming | 0.54 + 0.46 $cos\\left(\\frac{2\\pi n}{N-1}\\right)$ | $ 3.44\\frac{f_s}{T.W.}$|55\n",
    "| Blackman | 0.5 + 0.5 $cos\\left(\\frac{2\\pi n}{N-1}\\right)$+0.08 cos$\\left(\\frac{4\\pi n}{N-1}\\right)$|$ 5.98\\frac{f_s}{T.W.}$|75\n",
    "| Kaiser | $ \\frac{I_o\\left(\\beta \\sqrt {1 - \\left(\\frac{2n}{N-1}\\right)^2}\\right)}{I_o(\\beta)}$ | $ 4.33\\frac{f_s}{T.W.}(\\beta = 6)$| 64 |\n",
    "| | | $ 5.25\\frac{f_s}{T.W.}(\\beta = 8)$| 81 |\n",
    "| | | $ 6.36\\frac{f_s}{T.W.}(\\beta = 10)$| 100 |\n",
    "\n",
    "*$f_s$ is the sampling frequency. T.W. is the transition width.*\n",
    "\n",
    "$$I_o(x) = 1 + \\sum_{j=1}^{\\infty}\\left[\\frac{(x/2)^j}{j!}\\right]$$\n",
    "\n",
    "*The following bit of code calculates the frequency response of a square pulse filter. hn holds the weights of the elements in the filter. For the square pulse, all the elements have the same weight.*\n",
    "\n",
    "    nsamp=100 # number of sampling in $\\Omega$ space...faking a continuous function\n",
    "    Homega=[0.]*nsamp # Frequency response\n",
    "    ndow=7\n",
    "    hn=[1.]*ndow #impulse response of the filter (7 term square pulse)\n",
    "    ii=0 ## Counter for building the frequency response\n",
    "    while ii<nsamp:\n",
    "        i=0\n",
    "        omega=ii*np.pi/nsamp ## converting counter to a digital frequency (zero to pi)\n",
    "        while i<ndow:\n",
    "            Homega[ii]+=hn[i]*cmath.exp(complex(0, -(i*omega))) #building H at an Omega\n",
    "            i+=1 \n",
    "        ii+=1\n",
    "    plt.plot(np.abs(Homega))\n",
    "    plt.show()\n",
    "    \n",
    "*1. Using the above template, plot the frequency response for an $N$ = 35 Hanning, Hamming and Blackman window.\n",
    "There is no 2.*\n"
   ]
  },
  {
   "cell_type": "code",
   "execution_count": 4,
   "metadata": {},
   "outputs": [],
   "source": [
    "import matplotlib.pyplot as plt\n",
    "import numpy as np\n",
    "import cmath\n",
    "#import time\n",
    "#from scipy import signal\n",
    "#from scipy.io import wavfile"
   ]
  },
  {
   "cell_type": "code",
   "execution_count": 7,
   "metadata": {},
   "outputs": [
    {
     "data": {
      "image/png": "[encoded data removed]",
      "text/plain": [
       "<Figure size 432x288 with 1 Axes>"
      ]
     },
     "metadata": {
      "needs_background": "light"
     },
     "output_type": "display_data"
    }
   ],
   "source": [
    "nsamp=100         # number of sampling in $\\Omega$ space...faking a continuous function\n",
    "Homega=[0.]*nsamp # Frequency response\n",
    "ndow=35\n",
    "hn=[1.]*ndow      #impulse response of the filter (7 term square pulse)\n",
    "ii=0              ## Counter for building the frequency response\n",
    "while ii<nsamp:\n",
    "    i=0\n",
    "    omega=ii*np.pi/nsamp ## converting counter to a digital frequency (zero to pi)\n",
    "    while i<ndow:\n",
    "        Homega[ii]+=hn[i]*cmath.exp(complex(0, -(i*omega))) #building H at an Omega\n",
    "        i+=1 \n",
    "    ii+=1\n",
    "plt.plot(np.abs(Homega))\n",
    "plt.show()"
   ]
  },
  {
   "cell_type": "code",
   "execution_count": null,
   "metadata": {},
   "outputs": [],
   "source": [
    "\n",
    "N = nsamp/TW\n",
    "# hanning\n",
    "0.5+0.5*np.cos(2*np.pi*n/(3.32*N-1))\n",
    "# hamming\n",
    "0.54+0.46*np.cos(2*np.pi*n/(3.44*N-1))\n",
    "# blackman\n",
    "0.5+0.5*np.cos(2*np.pi*n/(5.98*N-1))+0.8*np.cos(4*np.pi*n/(5.98*N-1))"
   ]
  },
  {
   "cell_type": "code",
   "execution_count": null,
   "metadata": {},
   "outputs": [],
   "source": []
  },
  {
   "cell_type": "code",
   "execution_count": null,
   "metadata": {},
   "outputs": [],
   "source": []
  },
  {
   "cell_type": "code",
   "execution_count": null,
   "metadata": {},
   "outputs": [],
   "source": []
  }
 ],
 "metadata": {
  "kernelspec": {
   "display_name": "Python 3",
   "language": "python",
   "name": "python3"
  },
  "language_info": {
   "codemirror_mode": {
    "name": "ipython",
    "version": 3
   },
   "file_extension": ".py",
   "mimetype": "text/x-python",
   "name": "python",
   "nbconvert_exporter": "python",
   "pygments_lexer": "ipython3",
   "version": "3.8.5"
  }
 },
 "nbformat": 4,
 "nbformat_minor": 4
}
