{
 "cells": [
  {
   "cell_type": "markdown",
   "metadata": {},
   "source": [
    "P3700 Lab 2"
   ]
  },
  {
   "cell_type": "code",
   "execution_count": 39,
   "metadata": {},
   "outputs": [],
   "source": [
    "import matplotlib.pyplot as plt\n",
    "import numpy as np\n",
    "import pandas as pd\n",
    "import seaborn as sns\n",
    "import time"
   ]
  },
  {
   "cell_type": "markdown",
   "metadata": {},
   "source": [
    "All requested plots need to be fully labelled. In addition to functional code, please fully explain what you’re doing and declare variables either by commenting your code or using markdown cells. Don’t forget to include your wav files. Submit it to our course Moodle site."
   ]
  },
  {
   "cell_type": "markdown",
   "metadata": {},
   "source": [
    "0.Execution Time. We’ll now want to keep track of how long it takes processes to run. A simple way to do that is with the following bit of code. You won’t need to add it to all your functions, just put it in when you’re running/testing your complete code.\n",
    "\n",
    "        import time\n",
    "        time_start = time.process_time()\n",
    "        #run your code\n",
    "        time_elapsed = (time.process_time() - time_start)\n",
    "        print(\"Run time: %5.3f s\" % time_elapsed)"
   ]
  },
  {
   "cell_type": "markdown",
   "metadata": {},
   "source": [
    "1.Convolution. Convolution\n",
    "\n",
    "a) In the worksheets this week, you applied a moving average filter to a noisy square wave. You ended up doing something like a convolution, but you were free to implement it however you wanted. NumPy has a convolve function that convolves two lists. The function is simple, but write your own function myconv that performs the same operation. It should take two arguments that are lists and returns a list which is the convolution of the input lists. You can use the equation shown in the slides for convolution as reference."
   ]
  },
  {
   "cell_type": "markdown",
   "metadata": {},
   "source": [
    "$$ y[i] = \\sum_{j=0}^{M-1}h[j]x[i-j] $$"
   ]
  },
  {
   "cell_type": "code",
   "execution_count": 36,
   "metadata": {},
   "outputs": [],
   "source": [
    "def myconv(x,h):\n",
    "    i = 0\n",
    "    lst = []\n",
    "    while (i < (len(x)*2-1)):\n",
    "        j=0\n",
    "        value = 0\n",
    "        while (j < len(h)):\n",
    "            if ((i-j)>=0) and ((i-j)<len(x)):\n",
    "                value = value + h[j]*x[i-j]\n",
    "            j+=1\n",
    "        lst.append(value)\n",
    "        i+=1\n",
    "    return lst\n",
    "        "
   ]
  },
  {
   "cell_type": "code",
   "execution_count": 50,
   "metadata": {},
   "outputs": [
    {
     "name": "stdout",
     "output_type": "stream",
     "text": [
      "[0, 1, 2.5, 4.0, 1.5]\n",
      "Run time: 0.00054 s\n"
     ]
    }
   ],
   "source": [
    "time_start = time.process_time()\n",
    "x = [1,2,3]\n",
    "h = [0,1,0.5]\n",
    "print (myconv(x,h))\n",
    "time_elapsed = (time.process_time() - time_start)\n",
    "print(\"Run time: %5.5f s\" % time_elapsed)"
   ]
  },
  {
   "cell_type": "markdown",
   "metadata": {},
   "source": [
    "(b) Three common filter types applied with convolution that are relatively simple are the exponen- tial, the square pulse (moving average) and the sinc function. They were shown in this weeks slides. Write six functions, one for each filter. Write a high-pass and a low-pass version of each of the three. The only argument the functions should take are the sample length and it should return a list representing the filter kernel (impulse response). Here are a few points to keep in mind.\n",
    "\n",
    "i. The impulses in a low-pass filter should add to one.\n",
    "\n",
    "ii. The sinc function is supposed to be centred at zero, but for now negative samples don’t mean anything so shift your function to be centred in the sampling window.\n",
    "\n",
    "iii. High-pass versions of these filters are made by making every value in the low-pass sample negative while leaving one sample positive. For the exponential, it’s the first sample, for the square and sinc filter it’s the central sample. You’re basically taking a delta function and subtracting the low-pass impulse function to produce a high-pass filter.\n",
    "\n",
    "iv. The impulses in a high-pass filters should sum to zero."
   ]
  },
  {
   "cell_type": "code",
   "execution_count": null,
   "metadata": {},
   "outputs": [],
   "source": []
  },
  {
   "cell_type": "markdown",
   "metadata": {},
   "source": [
    "(c) Generate a 5 Hz square wave with scipy.signal.square. Sample at 1000 Hz and add uniform noise between −0.3 and 0.3. Plot the wave."
   ]
  },
  {
   "cell_type": "code",
   "execution_count": null,
   "metadata": {},
   "outputs": [],
   "source": []
  },
  {
   "cell_type": "markdown",
   "metadata": {},
   "source": [
    "(d) Apply your low-pass square filter to the noisy square wave with two different kernel lengths, 7 and 31. Plot the filtered waves. Describe the differences between the two resultant square waves."
   ]
  },
  {
   "cell_type": "code",
   "execution_count": null,
   "metadata": {},
   "outputs": [],
   "source": []
  },
  {
   "cell_type": "markdown",
   "metadata": {},
   "source": [
    "(e) Apply your low-pass exponential and sinc filters, both with kernel length 21. Plot the filtered waves. Describe any differences in the resulting square waves."
   ]
  },
  {
   "cell_type": "code",
   "execution_count": null,
   "metadata": {},
   "outputs": [],
   "source": []
  },
  {
   "cell_type": "markdown",
   "metadata": {},
   "source": [
    "(f) Apply your high-pass square, exponential and sinc filters, all with kernel length 21. Plot the filtered waves. Describe any differences in the resulting square waves."
   ]
  },
  {
   "cell_type": "code",
   "execution_count": null,
   "metadata": {},
   "outputs": [],
   "source": []
  },
  {
   "cell_type": "markdown",
   "metadata": {},
   "source": [
    "(g) Finally, apply your low-pass square filter to the noisy square wave with kernel length 11, 4 consecutive times. Plot the filtered waves. Describe any differences between applying it only once."
   ]
  },
  {
   "cell_type": "code",
   "execution_count": null,
   "metadata": {},
   "outputs": [],
   "source": []
  },
  {
   "cell_type": "markdown",
   "metadata": {},
   "source": [
    "2.Making Music. You may have generated audible tones in previous labs using a function generator. In this part of the lab, you’ll generate them with Python. You will first generate pure tone sin waves, then chords, then noisy chords. You’ll then filter out the noise from the chord and finally filter out individual tones from the chords. A number of notes and their respective frequencies are shown below."
   ]
  },
  {
   "cell_type": "markdown",
   "metadata": {},
   "source": [
    "                                     B - 246.94 Hz\n",
    "                                     C - 261.63 Hz\n",
    "                                     D - 293.66 Hz\n",
    "                                     E - 329.63 Hz\n",
    "                                     F - 349.23 Hz\n",
    "                                     G - 392.00 Hz\n",
    "                                     A - 440.00 Hz"
   ]
  },
  {
   "cell_type": "code",
   "execution_count": null,
   "metadata": {},
   "outputs": [],
   "source": []
  },
  {
   "cell_type": "markdown",
   "metadata": {},
   "source": [
    "(a) Produce 7 different sin waves, each with a frequency shown above. Each sin wave should be sampled at 48000 Hz, have an amplitude of 25000 and contain  ̃500 cycles. It’ll be easiest if all your sin waves have the same number of samples."
   ]
  },
  {
   "cell_type": "code",
   "execution_count": null,
   "metadata": {},
   "outputs": [],
   "source": []
  },
  {
   "cell_type": "markdown",
   "metadata": {},
   "source": [
    "(b) Write out the C wave to a wav file and play it to make sure things are running properly.\n"
   ]
  },
  {
   "cell_type": "code",
   "execution_count": null,
   "metadata": {},
   "outputs": [],
   "source": []
  },
  {
   "cell_type": "markdown",
   "metadata": {},
   "source": [
    "(c) A chord is a set of notes played together. By summing the proper sin waves, produce the following 4 chords. (i) CEG, (ii) BDG, (iii) CEA, (iv) CFA. You will have to divide each sum by 3 to normalize the sound levels. Save each chord to a different wav file."
   ]
  },
  {
   "cell_type": "code",
   "execution_count": null,
   "metadata": {},
   "outputs": [],
   "source": []
  },
  {
   "cell_type": "markdown",
   "metadata": {},
   "source": [
    "(d) Merge the 4 chords (in the above order) into one list and write the series of chords to a 5th wav file. Listen to the wav file to make sure you’re doing things correctly."
   ]
  },
  {
   "cell_type": "code",
   "execution_count": null,
   "metadata": {},
   "outputs": [],
   "source": []
  },
  {
   "cell_type": "markdown",
   "metadata": {},
   "source": [
    "(e) Add some normally distributed noise to each sample in your merged list with\n",
    "       \n",
    "       np.random.normal(0,150)\n",
    "       \n",
    "Save this noisy version and listen to it.\n"
   ]
  },
  {
   "cell_type": "code",
   "execution_count": null,
   "metadata": {},
   "outputs": [],
   "source": []
  },
  {
   "cell_type": "markdown",
   "metadata": {},
   "source": [
    "(f) Using one of the filter functions you wrote in question 1, try to filter the noise back out. In your notebook, be clear as to which filter you’re using and how big your filter kernel is. Save your filtered wav file."
   ]
  },
  {
   "cell_type": "code",
   "execution_count": null,
   "metadata": {},
   "outputs": [],
   "source": []
  },
  {
   "cell_type": "markdown",
   "metadata": {},
   "source": [
    "(g) Take your CFA and filter out everything except the F note. You will need to apply a bandpass filter with:\n",
    "\n",
    "       b, a = signal.butter(4, [LOWFREQEDGE/22000,HIGHFREQEDGE/22000], ’band’)\n",
    "       ONLYF = signal.filtfilt(b, a, CFA)\n",
    "       \n",
    "You will have to select LOWFREQEDGE and HIGHFREQEDGE yourself. Listen and write out the wav file."
   ]
  },
  {
   "cell_type": "code",
   "execution_count": null,
   "metadata": {},
   "outputs": [],
   "source": []
  },
  {
   "cell_type": "markdown",
   "metadata": {},
   "source": [
    "3.Correlation. Correlation is a mathematical operation that uses two signals to produce a third signal. This third signal is called the cross-correlation of the two input signals. If a signal is correlated with itself, the resulting signal is instead called the autocorrelation. The amplitude of each sample in the cross-correlation signal is a measure of how much the received signal resembles the target signal, at that location. The cross-correlation signal is used to identify signals in data. The following equation calculates the cross-correlation r between x and y:"
   ]
  },
  {
   "cell_type": "markdown",
   "metadata": {},
   "source": [
    "$$ r[i] = \\sum_{j=0}^{M-1}x[j]y[i+j] $$"
   ]
  },
  {
   "cell_type": "markdown",
   "metadata": {},
   "source": [
    "(a) Write a function to perform the cross-correlation shown above. Your function should take two lists and return a list which is the cross correlation of the two input lists. NumPy has a correlate function that convolves two lists. You can use it to check your function.\n"
   ]
  },
  {
   "cell_type": "code",
   "execution_count": null,
   "metadata": {},
   "outputs": [],
   "source": []
  },
  {
   "cell_type": "markdown",
   "metadata": {},
   "source": [
    "(b) xcor_data.csv contains one column of data. In that data are two sinc functions and some noise. Read the data into Python and plot the data. The horizontal axis can just be sample number."
   ]
  },
  {
   "cell_type": "code",
   "execution_count": null,
   "metadata": {},
   "outputs": [],
   "source": []
  },
  {
   "cell_type": "markdown",
   "metadata": {},
   "source": [
    "(c) Find the location of the centre of each sinc function (sample number) and orientation (right-side up or up-side down) using your correlation function. You can use the numpy sinc function. The “hidden” sinc functions have 81 sample points where −6 ≤ x < 6."
   ]
  },
  {
   "cell_type": "code",
   "execution_count": null,
   "metadata": {},
   "outputs": [],
   "source": []
  },
  {
   "cell_type": "markdown",
   "metadata": {},
   "source": [
    "(d) Plot the sinc function you’re looking for and the cross-correlated signal."
   ]
  },
  {
   "cell_type": "code",
   "execution_count": null,
   "metadata": {},
   "outputs": [],
   "source": []
  }
 ],
 "metadata": {
  "kernelspec": {
   "display_name": "Python 3",
   "language": "python",
   "name": "python3"
  },
  "language_info": {
   "codemirror_mode": {
    "name": "ipython",
    "version": 3
   },
   "file_extension": ".py",
   "mimetype": "text/x-python",
   "name": "python",
   "nbconvert_exporter": "python",
   "pygments_lexer": "ipython3",
   "version": "3.8.5"
  }
 },
 "nbformat": 4,
 "nbformat_minor": 4
}
