{
 "cells": [
  {
   "cell_type": "code",
   "execution_count": 3,
   "metadata": {
    "scrolled": true
   },
   "outputs": [
    {
     "name": "stdout",
     "output_type": "stream",
     "text": [
      "hello world\n"
     ]
    }
   ],
   "source": [
    "print('hello world')"
   ]
  },
  {
   "cell_type": "code",
   "execution_count": 4,
   "metadata": {},
   "outputs": [
    {
     "data": {
      "text/plain": [
       "'/Users/Dallas/Git/P3700-SignalProcessing'"
      ]
     },
     "execution_count": 4,
     "metadata": {},
     "output_type": "execute_result"
    }
   ],
   "source": [
    "pwd"
   ]
  },
  {
   "cell_type": "code",
   "execution_count": 5,
   "metadata": {},
   "outputs": [
    {
     "name": "stdout",
     "output_type": "stream",
     "text": [
      "/Users/Dallas/Git\n"
     ]
    }
   ],
   "source": [
    "cd .."
   ]
  },
  {
   "cell_type": "code",
   "execution_count": 8,
   "metadata": {},
   "outputs": [
    {
     "name": "stdout",
     "output_type": "stream",
     "text": [
      "/\n"
     ]
    }
   ],
   "source": [
    "cd/"
   ]
  },
  {
   "cell_type": "code",
   "execution_count": 9,
   "metadata": {},
   "outputs": [
    {
     "name": "stdout",
     "output_type": "stream",
     "text": [
      "/Users/Dallas\n"
     ]
    }
   ],
   "source": [
    "cd"
   ]
  },
  {
   "cell_type": "code",
   "execution_count": 12,
   "metadata": {},
   "outputs": [
    {
     "name": "stdout",
     "output_type": "stream",
     "text": [
      "/Users/Dallas/Git/P3700-SignalProcessing\n"
     ]
    }
   ],
   "source": [
    "cd Git/P3700-SignalProcessing"
   ]
  },
  {
   "cell_type": "code",
   "execution_count": 13,
   "metadata": {},
   "outputs": [
    {
     "data": {
      "text/plain": [
       "'/Users/Dallas/Git/P3700-SignalProcessing'"
      ]
     },
     "execution_count": 13,
     "metadata": {},
     "output_type": "execute_result"
    }
   ],
   "source": [
    "pwd"
   ]
  },
  {
   "cell_type": "code",
   "execution_count": 14,
   "metadata": {},
   "outputs": [
    {
     "data": {
      "text/plain": [
       "int"
      ]
     },
     "execution_count": 14,
     "metadata": {},
     "output_type": "execute_result"
    }
   ],
   "source": [
    "type(-3)"
   ]
  },
  {
   "cell_type": "code",
   "execution_count": 16,
   "metadata": {},
   "outputs": [
    {
     "data": {
      "text/plain": [
       "'14 books'"
      ]
     },
     "execution_count": 16,
     "metadata": {},
     "output_type": "execute_result"
    }
   ],
   "source": [
    "str(8+6)+' books'"
   ]
  },
  {
   "cell_type": "code",
   "execution_count": null,
   "metadata": {},
   "outputs": [],
   "source": []
  },
  {
   "cell_type": "code",
   "execution_count": null,
   "metadata": {},
   "outputs": [],
   "source": []
  },
  {
   "cell_type": "code",
   "execution_count": 197,
   "metadata": {
    "scrolled": false
   },
   "outputs": [
    {
     "name": "stdout",
     "output_type": "stream",
     "text": [
      "The counts for  0  to  100  are:\n",
      "[96, 94, 104, 79, 108, 94, 87, 104, 104, 113, 121, 89, 99, 102, 91, 99, 108, 92, 116, 101, 100, 77, 105, 97, 93, 103, 100, 102, 100, 99, 106, 110, 102, 88, 116, 95, 90, 103, 109, 102, 119, 83, 86, 102, 107, 106, 99, 105, 115, 77, 106, 91, 83, 88, 95, 104, 110, 104, 86, 87, 93, 97, 116, 108, 116, 75, 89, 93, 107, 101, 101, 85, 101, 107, 103, 96, 99, 92, 112, 89, 84, 88, 91, 96, 96, 95, 103, 101, 89, 94, 110, 85, 92, 111, 94, 105, 100, 118, 112, 101, 104]\n",
      "The mode is  10\n",
      "Comfirming with statistics function, mode is  10\n",
      "True\n"
     ]
    }
   ],
   "source": [
    "import random\n",
    "import statistics as st\n",
    "\n",
    "def mode_of_list(lst):\n",
    "    num_lst = [num for num in range(min(lst),max(lst)+1)]\n",
    "    count_list = []\n",
    "    for num in range(min(lst),max(lst)+1):\n",
    "        count_list.append(lst.count(num))\n",
    "    index_of_mode = count_list.index(max(count_list))\n",
    "    return num_lst[index_of_mode], count_list\n",
    "\n",
    "rand_lst = []\n",
    "for num in range (0,10000):\n",
    "    rand_lst.append(random.randint(0,100))\n",
    "#print ('The random list is ', rand_lst)\n",
    "print ('The counts for ', min(rand_lst), ' to ', max(rand_lst),' are:')\n",
    "print (mode_of_list(rand_lst)[1])\n",
    "print ('The mode is ', mode_of_list(rand_lst)[0] )\n",
    "print ('Comfirming with statistics function, mode is ',st.mode(rand_lst))\n",
    "print (mode_of_list(rand_lst)[0]==st.mode(rand_lst))\n"
   ]
  },
  {
   "cell_type": "code",
   "execution_count": 21,
   "metadata": {},
   "outputs": [
    {
     "name": "stdout",
     "output_type": "stream",
     "text": [
      "[4 0 3 2 0 0 0 4 3 5]\n",
      "([0, 1, 2, 3, 4, 5], [4, 0, 1, 2, 2, 1], 5)\n"
     ]
    }
   ],
   "source": [
    "import numpy as np\n",
    "import statistics as st\n",
    "\n",
    "def mode_of_list(lst):\n",
    "    num_lst = [num for num in range(min(lst),max(lst)+1)]\n",
    "    count_list = []\n",
    "    mode = 0\n",
    "    i = min(lst)\n",
    "    j = 0\n",
    "    while (i <= max(lst)):\n",
    "        count = 0\n",
    "        for num in lst:\n",
    "            if num == i:\n",
    "                count +=1\n",
    "        count_list.append(count)\n",
    "        i += 1\n",
    "        if (count >= count_list[j-1]):\n",
    "            mode = num\n",
    "        j +=1\n",
    "    return num_lst,count_list,mode\n",
    "\n",
    "rand_lst = np.random.randint(0,7,10)\n",
    "print (rand_lst)\n",
    "print (mode_of_list(rand_lst))"
   ]
  }
 ],
 "metadata": {
  "kernelspec": {
   "display_name": "Python 3",
   "language": "python",
   "name": "python3"
  },
  "language_info": {
   "codemirror_mode": {
    "name": "ipython",
    "version": 3
   },
   "file_extension": ".py",
   "mimetype": "text/x-python",
   "name": "python",
   "nbconvert_exporter": "python",
   "pygments_lexer": "ipython3",
   "version": "3.8.5"
  }
 },
 "nbformat": 4,
 "nbformat_minor": 4
}
