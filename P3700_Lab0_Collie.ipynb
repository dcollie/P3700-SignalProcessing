{
 "cells": [
  {
   "cell_type": "markdown",
   "metadata": {},
   "source": [
    "Physics 3700 Lab 0\n",
    "by Dallas Collie"
   ]
  },
  {
   "cell_type": "markdown",
   "metadata": {},
   "source": [
    "PART I - Mean"
   ]
  },
  {
   "cell_type": "markdown",
   "metadata": {},
   "source": [
    "TASK 1a"
   ]
  },
  {
   "cell_type": "code",
   "execution_count": 1,
   "metadata": {},
   "outputs": [],
   "source": [
    "import numpy as np\n",
    "\n",
    "def mean(*lst):\n",
    "    '''This function will return the mean of a list of numbers'''\n",
    "    entries = len(lst)          # find how many entries in the list\n",
    "    total = 0\n",
    "    for num in lst:            \n",
    "        total = total + num     # sum every number in the list\n",
    "    mean = total/entries        # find the mean of the list\n",
    "    return mean                 # return the mean\n"
   ]
  },
  {
   "cell_type": "markdown",
   "metadata": {},
   "source": [
    "TASK 1b"
   ]
  },
  {
   "cell_type": "code",
   "execution_count": 2,
   "metadata": {},
   "outputs": [],
   "source": [
    "# pulling average temperature data from file and getting the mean via user created function\n",
    "avg_temperature = np.loadtxt(\"weatherstats_vancouver_daily.csv\", delimiter=\",\", usecols=(3), skiprows=(1))\n",
    "mean_ave_temp = mean(*avg_temperature)"
   ]
  },
  {
   "cell_type": "markdown",
   "metadata": {},
   "source": [
    "TASK 1c"
   ]
  },
  {
   "cell_type": "code",
   "execution_count": 3,
   "metadata": {},
   "outputs": [
    {
     "name": "stdout",
     "output_type": "stream",
     "text": [
      "The mean average temperature via manual calculation is 10.590 km/h.\n"
     ]
    }
   ],
   "source": [
    "print ('The mean average temperature via manual calculation is %.3f km/h.'%(mean_ave_temp))"
   ]
  },
  {
   "cell_type": "markdown",
   "metadata": {},
   "source": [
    "TASK 1d"
   ]
  },
  {
   "cell_type": "code",
   "execution_count": 4,
   "metadata": {},
   "outputs": [
    {
     "name": "stdout",
     "output_type": "stream",
     "text": [
      "The mean average temperature via a numpy function is 10.590 km/h.\n"
     ]
    }
   ],
   "source": [
    "# mean of the average temperature from file using numpy builtin function\n",
    "mean_ave_temp_np = np.mean(avg_temperature)\n",
    "print ('The mean average temperature via a numpy function is %.3f km/h.'%(mean_ave_temp_np))"
   ]
  },
  {
   "cell_type": "code",
   "execution_count": 5,
   "metadata": {},
   "outputs": [
    {
     "data": {
      "text/plain": [
       "True"
      ]
     },
     "execution_count": 5,
     "metadata": {},
     "output_type": "execute_result"
    }
   ],
   "source": [
    "# compare the manual calculation of mean and the numpy mean function\n",
    "round(mean_ave_temp,3) == round(mean_ave_temp_np,3)"
   ]
  },
  {
   "cell_type": "markdown",
   "metadata": {},
   "source": [
    "The function for mean I created matches the function in numpy to 3 decimal places. "
   ]
  },
  {
   "cell_type": "markdown",
   "metadata": {},
   "source": [
    "TASK 2 - Standard Deviation"
   ]
  },
  {
   "cell_type": "markdown",
   "metadata": {},
   "source": [
    "TASK 2a"
   ]
  },
  {
   "cell_type": "code",
   "execution_count": 22,
   "metadata": {},
   "outputs": [],
   "source": [
    "def std_dev(*lst):\n",
    "    '''This function will return the standard deviation of a list of numbers'''\n",
    "    entries = len(lst)          # find how many entries in the list\n",
    "    total = 0\n",
    "    for num in lst:            \n",
    "        total = total + num     # sum every number in the list\n",
    "    mean = total/entries        # find the mean of the list\n",
    "    total2 = 0\n",
    "    for num2 in lst:            \n",
    "        total2 = total2 + (num2-mean)**2    # sum of the difference of each entry and the mean squared\n",
    "    std = (total2/entries)**.5  # std formula\n",
    "    return std                  # return the standard deviation"
   ]
  },
  {
   "cell_type": "markdown",
   "metadata": {},
   "source": [
    "TASK 2b"
   ]
  },
  {
   "cell_type": "code",
   "execution_count": 36,
   "metadata": {},
   "outputs": [],
   "source": [
    "std_ave_temp = std_dev(*avg_temperature)"
   ]
  },
  {
   "cell_type": "markdown",
   "metadata": {},
   "source": [
    "TASK 2c"
   ]
  },
  {
   "cell_type": "code",
   "execution_count": 47,
   "metadata": {
    "scrolled": true
   },
   "outputs": [
    {
     "name": "stdout",
     "output_type": "stream",
     "text": [
      "The average temperature caculated manually is: 5.797°C\n"
     ]
    }
   ],
   "source": [
    "print (\"The average temperature caculated manually is: %.3f\\u00b0C\" %std_ave_temp) \n"
   ]
  },
  {
   "cell_type": "markdown",
   "metadata": {},
   "source": [
    "TASK 2d"
   ]
  },
  {
   "cell_type": "code",
   "execution_count": 48,
   "metadata": {
    "scrolled": true
   },
   "outputs": [
    {
     "name": "stdout",
     "output_type": "stream",
     "text": [
      "The average temperature caculated using numpy is: 5.797°C\n"
     ]
    }
   ],
   "source": [
    "print (\"The average temperature caculated using numpy is: %.3f\\u00b0C\" %np.std(avg_temperature))"
   ]
  },
  {
   "cell_type": "code",
   "execution_count": 39,
   "metadata": {},
   "outputs": [
    {
     "data": {
      "text/plain": [
       "True"
      ]
     },
     "execution_count": 39,
     "metadata": {},
     "output_type": "execute_result"
    }
   ],
   "source": [
    "# compare the manual calculation of standard deviation and the numpy mean function\n",
    "round(std_dev(*avg_temperature),3) == round(np.std(avg_temperature),3)"
   ]
  },
  {
   "cell_type": "markdown",
   "metadata": {},
   "source": [
    "The function for standard deviation I created matches the function in numpy to 3 decimal places."
   ]
  },
  {
   "cell_type": "markdown",
   "metadata": {},
   "source": [
    "TASK 3 - Histogram"
   ]
  }
 ],
 "metadata": {
  "kernelspec": {
   "display_name": "Python 3",
   "language": "python",
   "name": "python3"
  },
  "language_info": {
   "codemirror_mode": {
    "name": "ipython",
    "version": 3
   },
   "file_extension": ".py",
   "mimetype": "text/x-python",
   "name": "python",
   "nbconvert_exporter": "python",
   "pygments_lexer": "ipython3",
   "version": "3.8.5"
  }
 },
 "nbformat": 4,
 "nbformat_minor": 4
}
