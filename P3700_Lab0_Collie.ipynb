{
 "cells": [
  {
   "cell_type": "markdown",
   "metadata": {},
   "source": [
    "Physics 3700 Lab 0\n",
    "by Dallas Collie"
   ]
  },
  {
   "cell_type": "markdown",
   "metadata": {},
   "source": [
    "TASK 1a"
   ]
  },
  {
   "cell_type": "code",
   "execution_count": 36,
   "metadata": {},
   "outputs": [],
   "source": [
    "import numpy as np\n",
    "\n",
    "def mean(*lst):\n",
    "    '''This fuction will return the mean of a list of numbers'''\n",
    "    entries = len(lst)          # find how many entries in the list\n",
    "    total = 0\n",
    "    for num in lst:            \n",
    "        total = total + num     # sum every number in the list\n",
    "    mean = total/entries        # find the mean of the list\n",
    "    return mean                 # returne the mean\n"
   ]
  },
  {
   "cell_type": "markdown",
   "metadata": {},
   "source": [
    "TASK 1b"
   ]
  },
  {
   "cell_type": "code",
   "execution_count": 37,
   "metadata": {},
   "outputs": [],
   "source": [
    "# pulling average temperature data from file and getting the mean via user created function\n",
    "avg_temperature = np.loadtxt(\"weatherstats_vancouver_daily.csv\", delimiter=\",\", usecols=(3), skiprows=(1))\n",
    "mean_ave_temp = mean(*avg_temperature)"
   ]
  },
  {
   "cell_type": "markdown",
   "metadata": {},
   "source": [
    "TASK 1c"
   ]
  },
  {
   "cell_type": "code",
   "execution_count": 38,
   "metadata": {},
   "outputs": [
    {
     "name": "stdout",
     "output_type": "stream",
     "text": [
      "The mean average temperature via manual calculation is 10.590 km/h.\n"
     ]
    }
   ],
   "source": [
    "print ('The mean average temperature via manual calculation is %.3f km/h.'%(mean_ave_temp))"
   ]
  },
  {
   "cell_type": "markdown",
   "metadata": {},
   "source": [
    "TASK 1d"
   ]
  },
  {
   "cell_type": "code",
   "execution_count": 39,
   "metadata": {},
   "outputs": [
    {
     "name": "stdout",
     "output_type": "stream",
     "text": [
      "The mean average temperature via a numpy function is 10.590 km/h.\n"
     ]
    }
   ],
   "source": [
    "# mean of the average temperature from file using numpy builtin function\n",
    "mean_ave_temp_np = np.mean(avg_temperature)\n",
    "print ('The mean average temperature via a numpy function is %.3f km/h.'%(mean_ave_temp_np))"
   ]
  },
  {
   "cell_type": "code",
   "execution_count": 40,
   "metadata": {},
   "outputs": [
    {
     "data": {
      "text/plain": [
       "True"
      ]
     },
     "execution_count": 40,
     "metadata": {},
     "output_type": "execute_result"
    }
   ],
   "source": [
    "# compare the manual calcualation of mean and the numpy mean function\n",
    "round(mean_ave_temp,3) == round(mean_ave_temp_np,3)"
   ]
  },
  {
   "cell_type": "markdown",
   "metadata": {},
   "source": [
    "The function for mean I created matches the function in numpy to 3 decimal places. "
   ]
  }
 ],
 "metadata": {
  "kernelspec": {
   "display_name": "Python 3",
   "language": "python",
   "name": "python3"
  },
  "language_info": {
   "codemirror_mode": {
    "name": "ipython",
    "version": 3
   },
   "file_extension": ".py",
   "mimetype": "text/x-python",
   "name": "python",
   "nbconvert_exporter": "python",
   "pygments_lexer": "ipython3",
   "version": "3.8.5"
  }
 },
 "nbformat": 4,
 "nbformat_minor": 4
}
