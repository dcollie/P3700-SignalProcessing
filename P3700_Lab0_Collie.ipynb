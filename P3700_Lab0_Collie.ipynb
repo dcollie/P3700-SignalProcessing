{
 "cells": [
  {
   "cell_type": "markdown",
   "metadata": {},
   "source": [
    "Physics 3700 Lab 0\n",
    "by Dallas Collie"
   ]
  },
  {
   "cell_type": "code",
   "execution_count": 24,
   "metadata": {},
   "outputs": [],
   "source": [
    "import numpy as np\n",
    "from scipy.stats import norm\n",
    "# pulling average temperature data from file\n",
    "avg_temperature = np.loadtxt(\"weatherstats_vancouver_daily.csv\", delimiter=\",\", usecols=(3), skiprows=(1))"
   ]
  },
  {
   "cell_type": "markdown",
   "metadata": {},
   "source": [
    "TASK 1 - Mean"
   ]
  },
  {
   "cell_type": "markdown",
   "metadata": {},
   "source": [
    "TASK 1a"
   ]
  },
  {
   "cell_type": "code",
   "execution_count": 2,
   "metadata": {},
   "outputs": [],
   "source": [
    "def mean(*lst):\n",
    "    '''This function will return the mean of a list of numbers'''\n",
    "    entries = len(lst)          # find how many entries in the list\n",
    "    total = 0\n",
    "    for num in lst:            \n",
    "        total = total + num     # sum every number in the list\n",
    "    mean = total/entries        # find the mean of the list\n",
    "    return mean                 # return the mean\n"
   ]
  },
  {
   "cell_type": "markdown",
   "metadata": {},
   "source": [
    "TASK 1b"
   ]
  },
  {
   "cell_type": "code",
   "execution_count": 3,
   "metadata": {},
   "outputs": [],
   "source": [
    "# calculating the mean using the function I created\n",
    "mean_ave_temp = mean(*avg_temperature)"
   ]
  },
  {
   "cell_type": "markdown",
   "metadata": {},
   "source": [
    "TASK 1c"
   ]
  },
  {
   "cell_type": "code",
   "execution_count": 4,
   "metadata": {},
   "outputs": [
    {
     "name": "stdout",
     "output_type": "stream",
     "text": [
      "The mean average temperature using my function is 10.590°C.\n"
     ]
    }
   ],
   "source": [
    "print ('The mean average temperature using my function is %.3f\\xb0C.'%(mean_ave_temp))"
   ]
  },
  {
   "cell_type": "markdown",
   "metadata": {},
   "source": [
    "TASK 1d"
   ]
  },
  {
   "cell_type": "code",
   "execution_count": 5,
   "metadata": {},
   "outputs": [
    {
     "name": "stdout",
     "output_type": "stream",
     "text": [
      "The mean average temperature using a numpy function is 10.590°C.\n"
     ]
    }
   ],
   "source": [
    "# mean of the average temperature from file using numpy function\n",
    "mean_ave_temp_np = np.mean(avg_temperature)\n",
    "print ('The mean average temperature using a numpy function is %.3f\\xb0C.'%(mean_ave_temp_np))"
   ]
  },
  {
   "cell_type": "code",
   "execution_count": 6,
   "metadata": {},
   "outputs": [
    {
     "data": {
      "text/plain": [
       "True"
      ]
     },
     "execution_count": 6,
     "metadata": {},
     "output_type": "execute_result"
    }
   ],
   "source": [
    "# compare the means calcuated by my fucnction and the numpy function\n",
    "round(mean_ave_temp,3) == round(mean_ave_temp_np,3)"
   ]
  },
  {
   "cell_type": "markdown",
   "metadata": {},
   "source": [
    "The function for mean I created matches the function in numpy to 3 decimal places. "
   ]
  },
  {
   "cell_type": "markdown",
   "metadata": {},
   "source": [
    "TASK 2 - Standard Deviation"
   ]
  },
  {
   "cell_type": "markdown",
   "metadata": {},
   "source": [
    "TASK 2a"
   ]
  },
  {
   "cell_type": "code",
   "execution_count": 7,
   "metadata": {},
   "outputs": [],
   "source": [
    "def std_dev(*lst):\n",
    "    '''This function will return the standard deviation of a list of numbers'''\n",
    "    entries = len(lst)          # find how many entries in the list\n",
    "    total = 0\n",
    "    for num in lst:            \n",
    "        total = total + num     # sum every number in the list\n",
    "    mean = total/entries        # find the mean of the list\n",
    "    sum_squares = 0\n",
    "    sum_lst = 0\n",
    "    for item in lst:            \n",
    "        sum_squares = sum_squares + item**2    # loop to sum the squares of list entries\n",
    "        sum_lst = sum_lst + item               # loop to sum the list entries\n",
    "    std = (1/(entries-1)*(sum_squares - sum_lst**2/entries))**.5 # runninig stats std calculation\n",
    "    return std                  # return the standard deviation"
   ]
  },
  {
   "cell_type": "markdown",
   "metadata": {},
   "source": [
    "TASK 2b"
   ]
  },
  {
   "cell_type": "code",
   "execution_count": 8,
   "metadata": {},
   "outputs": [],
   "source": [
    "# calculating the standard deviation of the average temperature data using the function I created\n",
    "std_ave_temp = std_dev(*avg_temperature)"
   ]
  },
  {
   "cell_type": "markdown",
   "metadata": {},
   "source": [
    "TASK 2c"
   ]
  },
  {
   "cell_type": "code",
   "execution_count": 9,
   "metadata": {
    "scrolled": true
   },
   "outputs": [
    {
     "name": "stdout",
     "output_type": "stream",
     "text": [
      "The average temperature caculated using my function is: 5.797°C\n"
     ]
    }
   ],
   "source": [
    "print (\"The average temperature caculated using my function is: %.3f\\u00b0C\" %std_ave_temp) "
   ]
  },
  {
   "cell_type": "markdown",
   "metadata": {},
   "source": [
    "TASK 2d"
   ]
  },
  {
   "cell_type": "code",
   "execution_count": 10,
   "metadata": {
    "scrolled": true
   },
   "outputs": [
    {
     "name": "stdout",
     "output_type": "stream",
     "text": [
      "The average temperature caculated using a numpy function is: 5.797°C\n"
     ]
    }
   ],
   "source": [
    "print (\"The average temperature caculated using a numpy function is: %.3f\\u00b0C\" %np.std(avg_temperature))"
   ]
  },
  {
   "cell_type": "code",
   "execution_count": 11,
   "metadata": {},
   "outputs": [
    {
     "data": {
      "text/plain": [
       "True"
      ]
     },
     "execution_count": 11,
     "metadata": {},
     "output_type": "execute_result"
    }
   ],
   "source": [
    "# compare the standard deviations calculated by my function and the numpy function\n",
    "round(std_dev(*avg_temperature),3) == round(np.std(avg_temperature),3)"
   ]
  },
  {
   "cell_type": "markdown",
   "metadata": {},
   "source": [
    "The function for standard deviation I created matches the function in NumPy to 3 decimal places."
   ]
  },
  {
   "cell_type": "markdown",
   "metadata": {},
   "source": [
    "TASK 3 - Histogram"
   ]
  },
  {
   "cell_type": "code",
   "execution_count": 35,
   "metadata": {},
   "outputs": [],
   "source": [
    "def histogram(min_range, max_range, num_bins,pmf,*lst):\n",
    "    bin_width = (max_range - min_range)/num_bins\n",
    "    \n",
    "    # getting locations of bins and save to an array\n",
    "    \n",
    "    num = min_range+(bin_width/2)      # first loaction of bin\n",
    "    i = 0\n",
    "    bin_locations = []\n",
    "    while (i < num_bins):\n",
    "        bin_locations.append((num))    # put location of bin in an array\n",
    "        num = num+bin_width            # advance to the next location of bin\n",
    "        i += 1\n",
    "    \n",
    "    # finding all numbers that are in the range and fit them in a bin by making the number a multiple \n",
    "    #    of the bin size and excluding others not in range by making them less than 0 \n",
    "    range_list = [math.floor((item-min_range)/bin_width) if (item >= min_range and item <= max_range) else -item for item in lst]\n",
    "    j=0\n",
    "    bin_counts = []\n",
    "    while (j < num_bins):\n",
    "        bin_counts.append(range_list.count(j))  # count the number of occurances of the multiples of bin size for each bin\n",
    "        j += 1\n",
    "    \n",
    "    # if the user wants a probability mass funcition of the bin counts\n",
    "    if (pmf == True):    \n",
    "        pmf_bin_counts = []\n",
    "        for x in bin_counts:\n",
    "            pmf_bin_counts.append(x/sum(bin_counts))  # convertiing bin data to pmf\n",
    "        bin_data = [pmf_bin_counts,bin_locations]     # making the pmf bin data into one 2D array\n",
    "    else:\n",
    "        bin_data = [bin_counts,bin_locations]         # making the bin data in one 2D array\n",
    "    return (bin_data)"
   ]
  },
  {
   "cell_type": "code",
   "execution_count": 14,
   "metadata": {},
   "outputs": [],
   "source": [
    "import math\n",
    "import matplotlib.pyplot as plt"
   ]
  },
  {
   "cell_type": "code",
   "execution_count": 40,
   "metadata": {},
   "outputs": [],
   "source": [
    "# setting range and number of bins and retrieving that data\n",
    "min_range = -10\n",
    "max_range = 30\n",
    "num_bins = 30\n",
    "pmf = False\n",
    "bin_width = (max_range - min_range)/num_bins\n",
    "ave_temp_histogram_data = histogram(min_range,max_range,num_bins,pmf,*avg_temperature)"
   ]
  },
  {
   "cell_type": "code",
   "execution_count": 45,
   "metadata": {},
   "outputs": [
    {
     "name": "stdout",
     "output_type": "stream",
     "text": [
      "10.598926559322598\n",
      "5.805990993860666\n"
     ]
    }
   ],
   "source": [
    "# finding the mean of histogram data\n",
    "result = []\n",
    "occurances = ave_temp_histogram_data[0]\n",
    "temperatures = ave_temp_histogram_data[1]\n",
    "for i1, i2 in zip(occurances,temperatures):  \n",
    "    result.append(i1*i2)                       # muliply the two data sets and saving to a new array\n",
    "mean_hist = sum(result)/sum(occurances)        # calculating the mean of the histogram data sets\n",
    "print(mean_hist)\n",
    "\n",
    "# finding the standard deviation of histogram data\n",
    "result2 = []\n",
    "for i3, i4 in zip(occurances,temperatures):\n",
    "    result2.append(i3*(i4-mean_hist)**2)         # finding the deviation from the mean, squaring and multiplying by occurances\n",
    "std_hist = (sum(result2)/(sum(occurances)-1))**.5  # calculating the standard deviation of the histogram data sets\n",
    "print(std_hist)\n"
   ]
  },
  {
   "cell_type": "code",
   "execution_count": 42,
   "metadata": {},
   "outputs": [],
   "source": [
    "bin_height = occurances\n",
    "bin_location = temperatures"
   ]
  },
  {
   "cell_type": "code",
   "execution_count": 44,
   "metadata": {},
   "outputs": [
    {
     "data": {
      "image/png": "[encoded data removed]",
      "text/plain": [
       "<Figure size 432x288 with 1 Axes>"
      ]
     },
     "metadata": {
      "needs_background": "light"
     },
     "output_type": "display_data"
    }
   ],
   "source": [
    "fig = plt.figure()\n",
    "x_axis = np.arange(-10, 30, 0.01)\n",
    "plt.bar(bin_location,bin_height,bin_width)   \n",
    "plt.plot(x_axis, (norm.pdf(x_axis,mean_hist,std_hist))*13000, \"r-\")\n",
    "plt.text(22, 800, r'$\\bar{x}=$%.3f' u'\\xb0C' % (mean_hist)) \n",
    "plt.text(22, 750, r'$\\sigma=$%.3f'u'\\xb0C' % (std_hist))\n",
    "plt.title('Frequency of Temperatures Between -10\\xb0C and 30\\xb0C')\n",
    "plt.ylabel('Number of Occurances')\n",
    "plt.xlabel('Average Temperature, \\xb0C')\n",
    "plt.savefig(\"YVR_Ave_Temp_Histo.pdf\", dpi=150)\n",
    "plt.show()"
   ]
  },
  {
   "cell_type": "code",
   "execution_count": 47,
   "metadata": {
    "scrolled": true
   },
   "outputs": [
    {
     "name": "stdout",
     "output_type": "stream",
     "text": [
      "9.93225989265593\n",
      "5.805990993860666\n"
     ]
    }
   ],
   "source": [
    "ave_temp_numpy_histogram_data = np.histogram(avg_temperature,num_bins,(min_range,max_range))\n",
    "\n",
    "# finding the mean of histogram data\n",
    "result_np = []\n",
    "occurances_np = ave_temp_numpy_histogram_data[0]\n",
    "temperatures_np = ave_temp_numpy_histogram_data[1]\n",
    "for i1, i2 in zip(occurances_np,temperatures_np):  \n",
    "    result_np.append(i1*i2)                             # muliply the two data sets and saving to a new array\n",
    "mean_hist_np = sum(result_np)/sum(occurances_np)        # calculating the mean of the histogram data sets\n",
    "print(mean_hist_np)\n",
    "\n",
    "# finding the standard deviation of histogram data\n",
    "result2_np = []\n",
    "for i3, i4 in zip(occurances_np,temperatures_np):\n",
    "    result2_np.append(i3*(i4-mean_hist_np)**2)       # finding the deviation from the mean, squaring and multiplying by occurances\n",
    "std_hist_np = (sum(result2_np)/(sum(occurances_np)-1))**.5  # calculating the standard deviation of the histogram data sets\n",
    "print(std_hist_np)\n"
   ]
  },
  {
   "cell_type": "code",
   "execution_count": 116,
   "metadata": {},
   "outputs": [],
   "source": [
    "bin_height_np = occurances\n",
    "bin_location_np = temperatures"
   ]
  },
  {
   "cell_type": "code",
   "execution_count": 138,
   "metadata": {},
   "outputs": [
    {
     "data": {
      "image/png": "[encoded data removed]",
      "text/plain": [
       "<Figure size 432x288 with 1 Axes>"
      ]
     },
     "metadata": {
      "needs_background": "light"
     },
     "output_type": "display_data"
    }
   ],
   "source": [
    "\n",
    "plt.bar(bin_location_np,bin_height_np,bin_width)   \n",
    "plt.plot(x_axis, (norm.pdf(x_axis,mean_hist_np,std_hist_np))*13000, \"r-\")\n",
    "plt.text(22, 800, r'$\\bar{x}=$%.3f' u'\\xb0C' % (mean_hist_np)) \n",
    "plt.text(22, 750, r'$\\sigma=$%.3f'u'\\xb0C' % (std_hist_np))\n",
    "plt.title('Frequency of Temperatures Between -10\\xb0C and 30\\xb0C')\n",
    "plt.ylabel('Number of Occurances')\n",
    "plt.xlabel('Average Temperature, \\xb0C')\n",
    "plt.savefig(\"YVR_Ave_Temp_Histo_Numpy.pdf\", dpi=150)\n",
    "plt.show()"
   ]
  },
  {
   "cell_type": "markdown",
   "metadata": {},
   "source": [
    "NOTE: I'm not sure why, but all the \"temperatures\" data that comes from numpy.histogram is lower than than my data by 0.6666667. Otherwise my bin data matches numpy bin data. I am willing to say that mine data is correct as my mean matches more closely with the mean of the full data set. "
   ]
  },
  {
   "cell_type": "code",
   "execution_count": 135,
   "metadata": {
    "scrolled": true
   },
   "outputs": [
    {
     "name": "stdout",
     "output_type": "stream",
     "text": [
      "[0.6666666666666661, 0.6666666666666661, 0.666666666666667, 0.6666666666666661, 0.6666666666666661, 0.6666666666666661, 0.6666666666666654, 0.6666666666666665, 0.6666666666666659, 0.6666666666666652, 0.6666666666666661, 0.6666666666666652, 0.6666666666666643, 0.6666666666666652, 0.6666666666666661, 0.6666666666666643, 0.6666666666666661, 0.6666666666666679, 0.6666666666666661, 0.6666666666666679, 0.6666666666666679, 0.6666666666666643, 0.6666666666666643, 0.6666666666666643, 0.6666666666666607, 0.6666666666666643, 0.6666666666666607, 0.6666666666666572, 0.6666666666666607, 0.6666666666666572]\n"
     ]
    }
   ],
   "source": [
    "difference = []\n",
    "for i1, i2 in zip(ave_temp_numpy_histogram_data[1],ave_temp_histogram_data[1]):  \n",
    "    difference.append(i2-i1) \n",
    "print (difference)"
   ]
  },
  {
   "cell_type": "markdown",
   "metadata": {},
   "source": [
    "TASK 4 - Box-Muller Transformation"
   ]
  },
  {
   "cell_type": "markdown",
   "metadata": {},
   "source": [
    "TASK 4a"
   ]
  },
  {
   "cell_type": "code",
   "execution_count": 80,
   "metadata": {},
   "outputs": [],
   "source": [
    "def box_muller_trans (list_u1,list_u2):\n",
    "    list_z1 = []\n",
    "    list_z2 = []\n",
    "    for num1, num2 in zip(list_u1,list_u2):\n",
    "        list_z1.append(math.sqrt(-2*math.log(num1))*math.cos(2*math.pi*num2))\n",
    "    for num1, num2 in zip(list_u1,list_u2):\n",
    "        list_z2.append(math.sqrt(-2*math.log(num1))*math.sin(2*math.pi*num2))\n",
    "    return list_z1,list_z2   \n"
   ]
  },
  {
   "cell_type": "markdown",
   "metadata": {},
   "source": [
    "TASK 4b"
   ]
  },
  {
   "cell_type": "code",
   "execution_count": 81,
   "metadata": {
    "scrolled": true
   },
   "outputs": [],
   "source": [
    "rand_1 = np.random.uniform(0,1,10000)\n",
    "rand_2 = np.random.uniform(0,1,10000)\n",
    "z1, z2 = box_muller_trans(rand_1, rand_2)\n"
   ]
  },
  {
   "cell_type": "code",
   "execution_count": 91,
   "metadata": {
    "scrolled": false
   },
   "outputs": [
    {
     "data": {
      "image/png": "[encoded data removed]",
      "text/plain": [
       "<Figure size 432x288 with 1 Axes>"
      ]
     },
     "metadata": {
      "needs_background": "light"
     },
     "output_type": "display_data"
    },
    {
     "data": {
      "image/png": "[encoded data removed]",
      "text/plain": [
       "<Figure size 432x288 with 1 Axes>"
      ]
     },
     "metadata": {
      "needs_background": "light"
     },
     "output_type": "display_data"
    },
    {
     "data": {
      "image/png": "[encoded data removed]",
      "text/plain": [
       "<Figure size 432x288 with 1 Axes>"
      ]
     },
     "metadata": {
      "needs_background": "light"
     },
     "output_type": "display_data"
    }
   ],
   "source": [
    "plt.hist(z1, bins=50)\n",
    "plt.title('Box Muller Transformation')\n",
    "plt.ylabel('Number of Occurances')\n",
    "plt.xlabel('Random Numbers After BMT (z1)')\n",
    "plt.show()\n",
    "\n",
    "plt.hist(z2, bins=50)\n",
    "plt.title('Box Muller Transformation')\n",
    "plt.ylabel('Number of Occurances')\n",
    "plt.xlabel('Random Numbers After BMT (z2)')\n",
    "plt.show()\n",
    "\n",
    "norm_dist = np.random.normal(0,1,10000)\n",
    "\n",
    "plt.hist(z2, bins=50)\n",
    "plt.title('Normal Random Numbers from NumPy')\n",
    "plt.ylabel('Number of Occurances')\n",
    "plt.xlabel('Random Numbers Using NumPy')\n",
    "plt.show()\n"
   ]
  }
 ],
 "metadata": {
  "kernelspec": {
   "display_name": "Python 3",
   "language": "python",
   "name": "python3"
  },
  "language_info": {
   "codemirror_mode": {
    "name": "ipython",
    "version": 3
   },
   "file_extension": ".py",
   "mimetype": "text/x-python",
   "name": "python",
   "nbconvert_exporter": "python",
   "pygments_lexer": "ipython3",
   "version": "3.8.5"
  }
 },
 "nbformat": 4,
 "nbformat_minor": 4
}
