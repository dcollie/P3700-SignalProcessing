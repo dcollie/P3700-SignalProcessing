{
 "cells": [
  {
   "cell_type": "markdown",
   "metadata": {},
   "source": [
    "# This is Week 1.  \n",
    "\n",
    "We're doing an intro to digital signal processing and some basic statistics.  We'll read files and write to files and do some plotting.  A lot of the tutorial-type examples were taken from w3schools.com and python-course.eu\n",
    "\n",
    "They need to\n",
    "* Get Anaconda\n",
    "* Start Jupyter\n",
    "* Command mode vs edit mode\n",
    "* Shortcuts\n",
    "* Quick commands to do some easy calculations\n",
    "* Play with numpy/scipy\n",
    "* Open a file (my file), read some stuff\n",
    "* Find the mean, std, var, snr\n",
    "* Histograms, PMFs, PDFs\n",
    "* Generate random numbers from a distribution\n"
   ]
  },
  {
   "cell_type": "markdown",
   "metadata": {},
   "source": [
    "# Heading 1\n",
    "## Heading 2\n",
    "### Heading 3\n",
    "#### Heading 4\n",
    "\n",
    "<span style=\"color:blue\">some *blue* text</span>\n",
    "\n",
    "#### Some random math\n",
    "\\begin{align}\n",
    "\\dot{x} & = \\sigma(y-x) \\\\\n",
    "\\dot{y} & = \\rho x - y - xz \\\\\n",
    "\\dot{z} & = -\\beta z + xy\n",
    "\\end{align}\n",
    "\n",
    "I'm going to try and an include an image here opengraph-icon-200x200.png\n",
    "![TEST FIG](opengraph-icon-200x200.png)"
   ]
  },
  {
   "cell_type": "code",
   "execution_count": 1,
   "metadata": {},
   "outputs": [
    {
     "name": "stdout",
     "output_type": "stream",
     "text": [
      "Hello Anaconda!\n"
     ]
    }
   ],
   "source": [
    "print(\"Hello Anaconda!\")"
   ]
  },
  {
   "cell_type": "markdown",
   "metadata": {},
   "source": [
    "## Variables\n",
    "You don't need to declare them, just set them"
   ]
  },
  {
   "cell_type": "code",
   "execution_count": 1,
   "metadata": {},
   "outputs": [
    {
     "name": "stdout",
     "output_type": "stream",
     "text": [
      "3\n",
      "Tyron\n"
     ]
    }
   ],
   "source": [
    "x = 3\n",
    "y = \"Tyron\"\n",
    "print(x)\n",
    "print(y)    "
   ]
  },
  {
   "cell_type": "code",
   "execution_count": 3,
   "metadata": {},
   "outputs": [
    {
     "name": "stdout",
     "output_type": "stream",
     "text": [
      "Python is life\n"
     ]
    }
   ],
   "source": [
    "x = \"Python is \"\n",
    "y = \"life\"\n",
    "z =  x + y\n",
    "print(z)"
   ]
  },
  {
   "cell_type": "code",
   "execution_count": 11,
   "metadata": {},
   "outputs": [
    {
     "name": "stdout",
     "output_type": "stream",
     "text": [
      "10.1\n"
     ]
    }
   ],
   "source": [
    "x = 3.4\n",
    "y = 6.7\n",
    "z =  x + y\n",
    "print(z)"
   ]
  },
  {
   "cell_type": "code",
   "execution_count": 13,
   "metadata": {},
   "outputs": [
    {
     "name": "stdout",
     "output_type": "stream",
     "text": [
      "<class 'int'>\n",
      "<class 'float'>\n",
      "<class 'complex'>\n"
     ]
    }
   ],
   "source": [
    "x = 1    # int\n",
    "y = 2.8e6  # float\n",
    "z = 1j   # complex\n",
    "print(type(x))\n",
    "print(type(y))\n",
    "print(type(z))"
   ]
  },
  {
   "cell_type": "markdown",
   "metadata": {},
   "source": [
    "### Casting\n",
    "Casting is also useful in data analysis and file i/o"
   ]
  },
  {
   "cell_type": "code",
   "execution_count": 14,
   "metadata": {},
   "outputs": [],
   "source": [
    "x = int(2.8)     # x will be 2\n",
    "y = float(\"3\")   # y will be 3.0\n",
    "z = str(2)       # z will be '2'"
   ]
  },
  {
   "cell_type": "markdown",
   "metadata": {},
   "source": [
    "### Strings\n",
    "Strings in python are surrounded by either single or double quotes."
   ]
  },
  {
   "cell_type": "code",
   "execution_count": 1,
   "metadata": {
    "scrolled": true
   },
   "outputs": [
    {
     "name": "stdout",
     "output_type": "stream",
     "text": [
      "llo, \n"
     ]
    }
   ],
   "source": [
    "b = \"Hello, World!\"\n",
    "print(b[2:7])"
   ]
  },
  {
   "cell_type": "code",
   "execution_count": 7,
   "metadata": {},
   "outputs": [
    {
     "name": "stdout",
     "output_type": "stream",
     "text": [
      "Hello, World!\n"
     ]
    }
   ],
   "source": [
    "a = \" Hello, World! \"\n",
    "print(a.strip()) # returns \"Hello, World!\""
   ]
  },
  {
   "cell_type": "code",
   "execution_count": 6,
   "metadata": {},
   "outputs": [
    {
     "name": "stdout",
     "output_type": "stream",
     "text": [
      "13\n"
     ]
    }
   ],
   "source": [
    "a = \"Hello, World!\"\n",
    "print(len(a))"
   ]
  },
  {
   "cell_type": "code",
   "execution_count": 8,
   "metadata": {},
   "outputs": [
    {
     "name": "stdout",
     "output_type": "stream",
     "text": [
      "Jello, World!\n"
     ]
    }
   ],
   "source": [
    "a = \"Hello, World!\"\n",
    "print(a.replace(\"H\", \"J\"))"
   ]
  },
  {
   "cell_type": "code",
   "execution_count": 2,
   "metadata": {},
   "outputs": [
    {
     "name": "stdout",
     "output_type": "stream",
     "text": [
      "['Hello', ' World!']\n"
     ]
    }
   ],
   "source": [
    "a = \"Hello, World!\"\n",
    "print(a.split(\",\")) # returns ['Hello', ' World!']"
   ]
  },
  {
   "cell_type": "code",
   "execution_count": 9,
   "metadata": {},
   "outputs": [
    {
     "name": "stdout",
     "output_type": "stream",
     "text": [
      "Enter your name:\n",
      "Tyron\n",
      "Hello, Tyron\n"
     ]
    }
   ],
   "source": [
    "print(\"Enter your name:\")\n",
    "x = input()\n",
    "print(\"Hello, \" + x)"
   ]
  },
  {
   "cell_type": "markdown",
   "metadata": {},
   "source": [
    "### Arrays\n",
    "There are four collection data types (arrays) in the Python programming language:\n",
    "\n",
    "* List is a collection which is ordered and changeable. Allows duplicate members. []\n",
    "* Tuple is a collection which is ordered and unchangeable. Allows duplicate members. ()\n",
    "* Set is a collection which is unordered and unindexed. No duplicate members. {}\n",
    "* Dictionary is a collection which is unordered, changeable and indexed. No duplicate members {:}\n",
    "\n",
    "When choosing a collection type, it is useful to understand the properties of that type. Choosing the right type for a particular data set could mean retention of meaning, and, it could mean an increase in efficiency or security.\n",
    "\n",
    "We will often need to build a list of floats or integers based on data we're reading in or writing.  If you know the number of elements in your list, you can just initialize the list, then fill it."
   ]
  },
  {
   "cell_type": "code",
   "execution_count": 11,
   "metadata": {},
   "outputs": [
    {
     "name": "stdout",
     "output_type": "stream",
     "text": [
      "[0.0, 2.0, 4.0, 6.0, 8.0, 10.0, 12.0, 14.0, 16.0, 18.0]\n"
     ]
    }
   ],
   "source": [
    "i=0\n",
    "j=[0]*10\n",
    "while i<10:\n",
    "    j[i]=float(i*2)\n",
    "    i+=1\n",
    "\n",
    "print(j)"
   ]
  },
  {
   "cell_type": "markdown",
   "metadata": {},
   "source": [
    "If you don't know the number of elements in your list, you can set an empty list, then append elements to it."
   ]
  },
  {
   "cell_type": "code",
   "execution_count": 12,
   "metadata": {},
   "outputs": [
    {
     "name": "stdout",
     "output_type": "stream",
     "text": [
      "[0.0, 5.0, 10.0, 15.0, 20.0, 25.0, 30.0, 35.0, 40.0, 45.0, 50.0, 55.0]\n"
     ]
    }
   ],
   "source": [
    "j=[]\n",
    "for i in range(12):\n",
    "    j.append(float(i)*5)\n",
    "\n",
    "print(j)"
   ]
  },
  {
   "cell_type": "markdown",
   "metadata": {},
   "source": [
    "# Functions\n",
    "A function is a block of code which only runs when it is called.\n",
    "\n",
    "You can pass data, known as parameters, into a function.\n",
    "\n",
    "A function can return data as a result."
   ]
  },
  {
   "cell_type": "code",
   "execution_count": 13,
   "metadata": {},
   "outputs": [
    {
     "name": "stdout",
     "output_type": "stream",
     "text": [
      "I am from Sweden\n",
      "I am from India\n",
      "I am from Norway\n",
      "I am from Brazil\n"
     ]
    }
   ],
   "source": [
    "def my_function(country = \"Norway\"):\n",
    "  print(\"I am from \" + country)\n",
    "\n",
    "my_function(\"Sweden\")\n",
    "my_function(\"India\")\n",
    "my_function()\n",
    "my_function(\"Brazil\")"
   ]
  },
  {
   "cell_type": "code",
   "execution_count": null,
   "metadata": {},
   "outputs": [],
   "source": [
    "def my_function(x):\n",
    "  return 5 * x\n",
    "\n",
    "print(my_function(3))\n",
    "print(my_function(5))\n",
    "print(my_function(9))"
   ]
  },
  {
   "cell_type": "markdown",
   "metadata": {},
   "source": [
    "### Lambda function\n",
    "A lambda function is a small anonymous function.\n",
    "\n",
    "A lambda function can take any number of arguments, but can only have one expression.\n",
    "\n",
    "The power of lambda is better shown when you use them as an anonymous function inside another function."
   ]
  },
  {
   "cell_type": "code",
   "execution_count": null,
   "metadata": {},
   "outputs": [],
   "source": [
    "def myfunc(n):\n",
    "  return lambda a : a * n\n",
    "\n",
    "mydoubler = myfunc(2)\n",
    "\n",
    "print(mydoubler(11))"
   ]
  },
  {
   "cell_type": "markdown",
   "metadata": {},
   "source": [
    "### File Handling\n",
    "We'll usually use file handling functions in the NumPy library, but the standard function for working with files in Python is the `open()` function.\n",
    "\n",
    "The `open()` function takes two parameters; filename, and mode.\n",
    "\n",
    "There are four different methods (modes) for opening a file:\n",
    "\n",
    "* \"r\" - Read - Default value. Opens a file for reading, error if the file does not exist\n",
    "\n",
    "* \"a\" - Append - Opens a file for appending, creates the file if it does not exist\n",
    "\n",
    "* \"w\" - Write - Opens a file for writing, creates the file if it does not exist\n",
    "\n",
    "* \"x\" - Create - Creates the specified file, returns an error if the file exists\n",
    "\n",
    "Some examples of writing and reading using savetxt and loadtxt from NumPy..."
   ]
  },
  {
   "cell_type": "code",
   "execution_count": 3,
   "metadata": {},
   "outputs": [
    {
     "name": "stdout",
     "output_type": "stream",
     "text": [
      "[[1. 2. 3.]\n",
      " [4. 5. 6.]\n",
      " [7. 8. 9.]]\n",
      "[[1. 3.]\n",
      " [4. 6.]\n",
      " [7. 9.]]\n",
      "[2. 5. 8.]\n"
     ]
    }
   ],
   "source": [
    "import numpy as np\n",
    "x = np.array([[1, 2, 3], \n",
    "              [4, 5, 6],\n",
    "              [7, 8, 9]], np.int32)\n",
    "np.savetxt(\"test1.txt\", x)\n",
    "np.savetxt(\"test2.txt\", x, fmt=\"%2.3f\", delimiter=\",\")\n",
    "np.savetxt(\"test3.txt\", x, fmt=\"%04d\", delimiter=\":\")\n",
    "\n",
    "y = np.loadtxt(\"test2.txt\", delimiter=\",\")\n",
    "print(y)\n",
    "\n",
    "y = np.loadtxt(\"test3.txt\", delimiter=\":\", usecols=(0,2))\n",
    "print(y)\n",
    "\n",
    "z = np.loadtxt(\"test3.txt\", delimiter=\":\", usecols=(1))\n",
    "print(z)"
   ]
  },
  {
   "cell_type": "markdown",
   "metadata": {},
   "source": [
    "### Here we're going to read in wind speed data into `ws`"
   ]
  },
  {
   "cell_type": "code",
   "execution_count": 3,
   "metadata": {},
   "outputs": [
    {
     "name": "stdout",
     "output_type": "stream",
     "text": [
      "[ 7.5 12.5 18.  20.  20.5 36.  22.  20.5 31.5 21.5 19.5 22.  23.  21.\n",
      " 19.5 12.  15.5  7.5  6.   6.5  9.   9.   6.   7.  11.  11.5  9.5 10.5\n",
      " 22.5 23.5 13.5 10.  13.5 21.5 16.5  8.5  5.5  7.  10.  12.  15.5 17.\n",
      " 14.   6.5  9.5 12.   9.5  5.   8.5 16.5  7.5 17.  17.5 19.  19.  13.\n",
      " 15.5 11.5 16.5 13.5 14.  13.  13.  13.5  5.5 10.5 10.   8.   6.   7.\n",
      "  9.5  8.5  7.  12.5 10.5  7.  11.  13.5 10.  10.  14.5 18.5 12.5  8.\n",
      " 22.5  9.5 15.   7.5 12.  13.5 12.5 14.  11.  11.5 15.5 16.   9.5 12.5\n",
      "  7.   9.5 16.5 16.5 15.   9.5  7.  11.5 15.  17.5 12.  15.  12.5 11.\n",
      " 15.5 22.5 17.5 10.  12.5 13.  10.   9.   7.5 10.5 11.5  9.  13.5  7.\n",
      "  9.  16.5 12.  11.5 10.5 13.5  7.5 11.5 13.5 12.  20.5 16.  10.  10.5\n",
      "  9.5 11.   9.  10.5 12.  19.  20.5 20.5 10.   7.5 13.5 11.  11.5 10.\n",
      "  9.5  8.  11.  12.5 18.  16.5 20.  11.5 14.  13.  20.5 23.5 17.5 15.5\n",
      "  9.5  9.  12.5 10.5 14.5 20.  12.5 13.  27.  25.  13.5 10.  14.5 12.5\n",
      " 21.  15.5 24.  15.  15.5 28.   9.  17.  12.5 13.5 20.5 17.  13.5 15.5\n",
      " 12.  13.5 17.5 13.  18.5 15.  13.  16.5 10.  15.  10.5 16.5 12.5 17.\n",
      " 22.5 20.5 13.  15.5 14.5 21.5 13.   8.   7.5 13.5  9.5 11.  14.5 18.\n",
      " 14.5  6.  14.5 15.  10.5 13.  13.  10.5 14.5 11.  14.5 14.5 11.   9.\n",
      " 13.5 11.5  8.5 11.  19.  10.  16.  14.  11.5 14.  16.  14.   7.  13.5\n",
      " 12.5 13.  19.5 14.5 23.  13.  21.5 17.  16.5 23.  21.  10.5 14.5 12.5\n",
      " 15.5 19.  21.   9.5 12.5 11.5 19.  16.5 18.  15.  14.5 26.  18.5  8.\n",
      " 10.5  6.5  8.  11.  15.5 16.  18.   8.   7.5  7.  11.5 26.5 16.  12.5\n",
      "  9.   7.5 11.   9.  11.5 18.  22.  15.   7.5 24.  14.5 20.   6.  11.\n",
      " 13.   9.  20.  18.  15.   9.  17.  14.5  9.5 14.   7.  10.  22.5 15.5\n",
      "  6.  12.5 14.   9.5  9.  13.  13.5 15.  23.  17.5 21.5 16.5 20.  18.\n",
      " 28.  16.  37.  27.  21.5 23.5 19.5 15.5 12.5 10.  10.5 10.5 11.5  8.5\n",
      " 21.  10.5 18.5 13.5 17.5  8.   7.   6.   9.  14.  18.5 17.  16.  12.\n",
      "  7.5 10.   5.5  6.   7.5 10.   8.  19.5 21.5 12.  10.  16.   6.  11.5\n",
      " 10.  12.   8.   4.   5.   4.5 12.  12.   6.  13.5 14.5 17.5 21.  15.\n",
      " 18.5 13.5 17.  19.  20.5 15.  18.  12.  13.  28.5 16.  13.5 11.  25.5\n",
      " 32.5 27.  19.5 17.   9.5 10.5  9.5 13.  10.5  9.  10.5 12.  14.5 15.\n",
      "  6.5 11.  11.   5.5  8.5 17.5 12.5  7.5  9.  17.5 21.5 12.  16.  18.5\n",
      " 26.5 19.5  8.5 16.  12.5 14.5  8.5 14.5  9.5 14.  18.  26.   6.   6.\n",
      "  9.  14.5 15.5  9.5 14.5  8.  10.  11.5 11.   8.   9.   8.5  9.  16.\n",
      " 15.5 16.5 20.5  9.   9.  16.5 18.  25.  12.5  7.5 16.5 10.5 15.5 12.5\n",
      " 13.  14.5 10.5  7.   9.   9.  18.5 12.  14.  13.5  7.5  9.  19.5 16.5\n",
      "  9.5  8.  10.  19.  18.5 10.5 15.5  8.5 11.  13.  21.  13.   8.   6.\n",
      "  8.  10.5  6.5  7.5 11.5 15.5 19.5 17.5 14.5 10.5 16.5 12.  16.5 12.5\n",
      " 14.5 23.  20.  12.  10.5 16.  17.  11.  14.  15.5 21.  13.  10.5 16.5\n",
      " 13.  18.  19.5  8.5 20.   9.5  6.5  9.5 15.  15.5 21.5 10.   8.5 14.\n",
      "  9.  11.  12.  11.  14.  11.5 18.5 18.5 12.   7.5 11.5 12.  18.  10.\n",
      " 14.  16.   9.  10.5 14.  16.  12.   8.5  8.5 14.  11.5 14.  10.5 12.\n",
      " 22.  10.5  7.   7.   7.5 12.5 35.5 32.  10.5 13.5 10.  10.   9.5 13.5\n",
      " 15.5 16.  12.  10.5 15.  17.5  7.5  7.5 12.5 12.  19.5 18.  10.5 12.5\n",
      " 11.  12.5 13.  18.  10.5 21.5 20.5 20.  13.  19.5 16.5 10.  10.  19.5\n",
      " 11.5 13.  15.5 14.5 17.  12.5 17.  19.  21.5 15.5 15.  24.  15.5 20.5\n",
      " 15.   9.  25.  17.  14.  19.5 25.5 25.5 19.5 17.  17.5 15.  25.5 23.5\n",
      " 11.5 16.5 13.  20.5 14.5 19.5 15.  18.5 17.  13.  14.5 10.5 10.5 15.5\n",
      " 20.  13.  11.5 14.  20.5 25.  15.  11.5 11.  19.  10.  13.  11.5 13.\n",
      " 16.5 19.  20.5 16.  15.  15.5 25.  17.   7.5  7.  10.5 23.  13.   8.5\n",
      " 15.5 11.  11.5 11.5  7.   9.  13.  15.  16.  17.   9.   8.   7.5  5.\n",
      "  6.5 12.  11.  10.  13.5 20.  24.5 21.  11.   8.   8.5  7.5  8.5  7.\n",
      " 10.  24.  10.5  9.5 16.  11.  10.  12.5 14.  15.5 13.  16.  16.5 18.\n",
      " 11.5 19.5  7.   9.  13.5 20.  11.5 19.5 17.5 18.5 12.   9.5  9.  10.5\n",
      "  7.  11.5 14.  19.5 20.5 13.   7.  11.  14.  28.  14.  23.  14.  32.\n",
      " 13.5 18.5 20.5 15.  18.5 28.5 29.5 20.5 12.  25.5 16.5 13.  16.  11.\n",
      "  8.   9.5 21.5 22.  11.   6.  10.5 13.5 21.  20.5 17.  14.5 20.5 23.\n",
      " 15.   9.5 13.  11.5 10.  15.5 14.  22.5 15.5 15.5 13.  14.5 14.  17.5\n",
      " 15.5 16.  19.  28.5 35.5 23.  13.5  9.5 10.  17.  18.5 23.5 23.  18.\n",
      " 18.5 17.  12.5 16.   7.5 11.  16.5 32.  10.5  9.5 14.  15.  14.5 16.5\n",
      " 15.5 13.  17.5 19.  10.  10.   6.5 10.5 15.  23.5 19.5  7.  15.5 12.5\n",
      "  7.5 14.5  8.5  7.  11.5 13.  18.5 16.5 11.5 14.5 22.5  8.  12.5 15.\n",
      " 12.  19.  17.5 16.  18.  19.5 23.5 12.5 10.  17.  15.  16.  17.5  9.5\n",
      "  8.  10.  10.  15.5 16.5 12.5  8.  15.  10.5 14.  25.  27.  19.  14.5\n",
      " 15.  10.   8.5 15.5 19.  12.  11.5 12.  16.   8.5 10.5 12.  16.   8.5\n",
      "  8.  15.5 11.5 12.5  9.5 18.  11.5 13.5 15.  23.5 15.  13.  16.  16.5\n",
      " 12.5 10.5 12.  10.  13.  13.  13.5 16.  11.5 12.5 11.5 14.5 11.5 10.5\n",
      " 18.5 19.  12.5 11.5 12.5 16.  21.  12.  13.5 15.  21.  14.  13.5 12.5\n",
      "  7.5 10.  14.5 18.5 15.  14.5 14.5  9.5 10.  12.  14.  17.5 20.5 23.5\n",
      " 11.5 13.  18.5 17.  12.5  9.   9.5  9.5 13.  32.5 27.5 22.5 19.  26.5\n",
      " 16.5 10.   8.5 11.5 17.5 14.5 17.5 14.5 16.5 16.5 14.   9.  15.  12.\n",
      " 13.   7.5 11.5 10.  16.  11.5 19.  18.  14.  11.  15.5 20.5 12.5 13.\n",
      " 16.  15.5 10.  15.  11.   8. ]\n"
     ]
    }
   ],
   "source": [
    "import numpy as np\n",
    "ws = np.loadtxt(\"weatherstats_vancouver_daily_MineShort.csv\", delimiter=\",\", usecols=(17), skiprows=(1))\n",
    "print(ws)"
   ]
  },
  {
   "cell_type": "code",
   "execution_count": 5,
   "metadata": {
    "scrolled": true
   },
   "outputs": [
    {
     "name": "stdout",
     "output_type": "stream",
     "text": [
      "Wind Speed Mean: 14.13 km/h\n",
      "Wind Speed STD:  5.13 km/h\n",
      "Wind Speed Variance: 26.36 km/h\n",
      "Wind Speed Signal to Noise:  2.75 km/h\n"
     ]
    }
   ],
   "source": [
    "print(\"Wind Speed Mean: %5.2f km/h\" % (np.mean(ws)))\n",
    "print(\"Wind Speed STD: %5.2f km/h\" % (np.std(ws)))\n",
    "print(\"Wind Speed Variance: %5.2f km/h\" %(np.var(ws)))\n",
    "print(\"Wind Speed Signal to Noise: %5.2f km/h\" %(np.mean(ws)/np.std(ws)))"
   ]
  },
  {
   "cell_type": "markdown",
   "metadata": {},
   "source": [
    "Just a quick test of format strings as output"
   ]
  },
  {
   "cell_type": "code",
   "execution_count": 8,
   "metadata": {},
   "outputs": [
    {
     "data": {
      "text/plain": [
       "'First argument: 7.5, second one: 12.5'"
      ]
     },
     "execution_count": 8,
     "metadata": {},
     "output_type": "execute_result"
    }
   ],
   "source": [
    "\"First argument: {0}, second one: {1}\".format(ws[0],ws[1])"
   ]
  },
  {
   "cell_type": "markdown",
   "metadata": {},
   "source": [
    "## Here we'll use `mathplotlib` to make a bar chart."
   ]
  },
  {
   "cell_type": "code",
   "execution_count": 19,
   "metadata": {},
   "outputs": [
    {
     "data": {
      "image/png": "[encoded data removed]",
      "text/plain": [
       "<Figure size 432x288 with 1 Axes>"
      ]
     },
     "metadata": {},
     "output_type": "display_data"
    }
   ],
   "source": [
    "import matplotlib.pyplot as plt\n",
    "\n",
    "objects = ('D', 'C', 'AA', 'AAA', 'AAAA')\n",
    "y_pos = np.arange(len(objects))\n",
    "performance = [58., 46., 50., 44.5, 40.2]\n",
    " \n",
    "plt.bar(y_pos, performance, align='center', alpha=0.5)\n",
    "plt.xticks(y_pos, objects)\n",
    "plt.ylabel('Length (mm)')\n",
    "plt.title('Battery Lengths')\n",
    " \n",
    "plt.show()\n"
   ]
  },
  {
   "cell_type": "code",
   "execution_count": 4,
   "metadata": {},
   "outputs": [
    {
     "data": {
      "image/png": "[encoded data removed]",
      "text/plain": [
       "<Figure size 432x288 with 1 Axes>"
      ]
     },
     "metadata": {
      "needs_background": "light"
     },
     "output_type": "display_data"
    }
   ],
   "source": [
    "import matplotlib.pyplot as plt\n",
    "\n",
    "plt.hist(ws, bins='auto') # Quick histogram with settings on 'auto'\n",
    "plt.xlabel('Wind Speed (km/h)')\n",
    "plt.ylabel('Days')\n",
    "plt.title('YVR Wind Speed Data')\n",
    "plt.savefig(\"YVR_WS_Histo.pdf\", dpi=150)\n",
    "plt.show()"
   ]
  },
  {
   "cell_type": "markdown",
   "metadata": {},
   "source": [
    "### More histogram options. \n",
    "\n",
    "`n` is the height of the bars. `bins` is the position of the bins and `patches` references the actual blocks used to make the histogram so you can change the block properties."
   ]
  },
  {
   "cell_type": "code",
   "execution_count": 52,
   "metadata": {},
   "outputs": [
    {
     "name": "stdout",
     "output_type": "stream",
     "text": [
      "Wind Speed Mean: 14.13 km/h\n",
      "Wind Speed STD:  5.13 km/h\n"
     ]
    },
    {
     "data": {
      "image/png": "[encoded data removed]",
      "text/plain": [
       "<Figure size 432x288 with 1 Axes>"
      ]
     },
     "metadata": {},
     "output_type": "display_data"
    }
   ],
   "source": [
    "# the histogram of the data \n",
    "n, bins, patches = plt.hist(ws, 40, density=False, facecolor='g', alpha=0.75)\n",
    "\n",
    "plt.setp(patches[20], 'facecolor', 'b')\n",
    "\n",
    "plt.text(20, 65, r'$\\bar{x}=$%5.2f   $\\sigma=$%5.2f' % (np.mean(ws),np.std(ws)))\n",
    "plt.axis([0, 40, 0, 100])\n",
    "plt.grid(True)\n",
    "\n",
    "plt.xlabel('Wind Speed (km/h)')\n",
    "plt.ylabel('Days')\n",
    "plt.title('YVR Wind Speed Data')\n",
    "plt.savefig(\"YVR_WS_Histo.pdf\", dpi=150)\n",
    "plt.show()"
   ]
  },
  {
   "cell_type": "markdown",
   "metadata": {},
   "source": [
    "### Random Numbers."
   ]
  },
  {
   "cell_type": "code",
   "execution_count": 55,
   "metadata": {},
   "outputs": [
    {
     "name": "stdout",
     "output_type": "stream",
     "text": [
      "45\n",
      "65\n",
      "89\n",
      "88\n",
      "84\n",
      "59\n",
      "58\n",
      "81\n",
      "35\n",
      "61\n"
     ]
    }
   ],
   "source": [
    "import random\n",
    "for x in range(10):\n",
    "  print(random.randint(1,101))"
   ]
  },
  {
   "cell_type": "markdown",
   "metadata": {},
   "source": [
    "### Histograms of Random Numbers.\n",
    "First we'll sample numbers from a uniform distribution and plot a histogram of the values, then we'll sample numbers from a normal (Gaussian) distribution and make another histogram.  The histogram of the normal distribution includes an overlay of the matching normal function."
   ]
  },
  {
   "cell_type": "code",
   "execution_count": 16,
   "metadata": {},
   "outputs": [
    {
     "data": {
      "image/png": "[encoded data removed]",
      "text/plain": [
       "<Figure size 864x288 with 2 Axes>"
      ]
     },
     "metadata": {},
     "output_type": "display_data"
    },
    {
     "data": {
      "image/png": "[encoded data removed]",
      "text/plain": [
       "<Figure size 864x288 with 2 Axes>"
      ]
     },
     "metadata": {},
     "output_type": "display_data"
    }
   ],
   "source": [
    "import numpy as np\n",
    "import matplotlib.pyplot as plt\n",
    "from scipy.stats import norm\n",
    "\n",
    "vet = np.random.randint(0, 10, 1000)\n",
    "\n",
    "plt.figure(figsize=(12,4))\n",
    "plt.subplot(1,2,1)\n",
    "plt.plot(vet)\n",
    "plt.subplot(1,2,2)\n",
    "n,bins,patches=plt.hist(vet,10)\n",
    "plt.show()\n",
    "\n",
    "vet = np.random.normal(0, 10, 1000)  \n",
    "\n",
    "plt.figure(figsize=(12,4))\n",
    "np.savetxt('output.txt',vet)\n",
    "plt.subplot(1,2,1)\n",
    "plt.plot(vet)\n",
    "plt.subplot(1,2,2)\n",
    "n,bins,patches=plt.hist(vet,10, density=True)\n",
    "\n",
    "x_axis = np.arange(-40, 40, 0.01)\n",
    "plt.plot(x_axis, norm.pdf(x_axis,np.mean(vet),np.std(vet)))\n",
    "\n",
    "plt.show()"
   ]
  },
  {
   "cell_type": "markdown",
   "metadata": {},
   "source": [
    "### Another histogram example with options."
   ]
  },
  {
   "cell_type": "code",
   "execution_count": 9,
   "metadata": {},
   "outputs": [
    {
     "ename": "NameError",
     "evalue": "name 'plt' is not defined",
     "output_type": "error",
     "traceback": [
      "\u001b[1;31m---------------------------------------------------------------------------\u001b[0m",
      "\u001b[1;31mNameError\u001b[0m                                 Traceback (most recent call last)",
      "\u001b[1;32m<ipython-input-9-426faacfef9d>\u001b[0m in \u001b[0;36m<module>\u001b[1;34m\u001b[0m\n\u001b[0;32m      6\u001b[0m \u001b[1;33m\u001b[0m\u001b[0m\n\u001b[0;32m      7\u001b[0m \u001b[1;31m# the histogram of the data\u001b[0m\u001b[1;33m\u001b[0m\u001b[1;33m\u001b[0m\u001b[1;33m\u001b[0m\u001b[0m\n\u001b[1;32m----> 8\u001b[1;33m \u001b[0mn\u001b[0m\u001b[1;33m,\u001b[0m \u001b[0mbins\u001b[0m\u001b[1;33m,\u001b[0m \u001b[0mpatches\u001b[0m \u001b[1;33m=\u001b[0m \u001b[0mplt\u001b[0m\u001b[1;33m.\u001b[0m\u001b[0mhist\u001b[0m\u001b[1;33m(\u001b[0m\u001b[0mx\u001b[0m\u001b[1;33m,\u001b[0m \u001b[1;36m50\u001b[0m\u001b[1;33m,\u001b[0m \u001b[0mdensity\u001b[0m\u001b[1;33m=\u001b[0m\u001b[1;32mTrue\u001b[0m\u001b[1;33m,\u001b[0m \u001b[0mfacecolor\u001b[0m\u001b[1;33m=\u001b[0m\u001b[1;34m'g'\u001b[0m\u001b[1;33m,\u001b[0m \u001b[0malpha\u001b[0m\u001b[1;33m=\u001b[0m\u001b[1;36m0.75\u001b[0m\u001b[1;33m)\u001b[0m\u001b[1;33m\u001b[0m\u001b[1;33m\u001b[0m\u001b[0m\n\u001b[0m\u001b[0;32m      9\u001b[0m \u001b[1;33m\u001b[0m\u001b[0m\n\u001b[0;32m     10\u001b[0m \u001b[0mprint\u001b[0m\u001b[1;33m(\u001b[0m\u001b[0mpatches\u001b[0m\u001b[1;33m)\u001b[0m\u001b[1;33m\u001b[0m\u001b[1;33m\u001b[0m\u001b[0m\n",
      "\u001b[1;31mNameError\u001b[0m: name 'plt' is not defined"
     ]
    }
   ],
   "source": [
    "# Fixing random state for reproducibility\n",
    "np.random.seed(19680801)\n",
    "\n",
    "mu, sigma = 100, 15\n",
    "x = mu + sigma * np.random.randn(10000)\n",
    "\n",
    "# the histogram of the data\n",
    "n, bins, patches = plt.hist(x, 50, density=True, facecolor='g', alpha=0.75)\n",
    "\n",
    "print(patches)\n",
    "plt.setp(patches[25], 'facecolor', 'b')\n",
    "\n",
    "plt.xlabel('Smarts')\n",
    "plt.ylabel('Probability')\n",
    "plt.title('Histogram of IQ')\n",
    "plt.text(60, .025, r'$\\mu=100,\\ \\sigma=15$')\n",
    "plt.axis([40, 160, 0, 0.03])\n",
    "plt.grid(True)\n",
    "plt.show()"
   ]
  },
  {
   "cell_type": "markdown",
   "metadata": {},
   "source": [
    "Hints for the sunrise/sunset question.  In this example, I'm reading in the date as a string then putting the month into a list and the day into a list.  It's not exactly what you need, but should give you clues on how to approach times."
   ]
  },
  {
   "cell_type": "code",
   "execution_count": null,
   "metadata": {},
   "outputs": [],
   "source": [
    "dataday, datarise = np.genfromtxt(\"weatherstats_vancouver_daily.csv\", delimiter=\",\", usecols=(0,46),dtype='str',unpack=True)\n",
    "\n",
    "daylist=dataday.tolist() # This changes the np.array to a list so we can strip the hyphen\n",
    "riselist=datarise.tolist() # I'm only saving the rise times here, but you'll need the set ones too\n",
    "\n",
    "delimiter = '-'\n",
    "month=[0.]*(len(daylist)-1)\n",
    "day=[0.]*(len(daylist)-1)\n",
    "\n",
    "i=1\n",
    "\n",
    "while i<len(daylist):\n",
    "    date=daylist[i].split(delimiter) #Strip the hyphen and store the month and day\n",
    "    month[i-1]=list(map(float, date[1:2])) #Maps the list of strings into floats and back into an array\n",
    "    day[i-1]=list(map(float, date[2:3]))\n",
    "        \n",
    "    i+=1"
   ]
  }
 ],
 "metadata": {
  "kernelspec": {
   "display_name": "Python 3",
   "language": "python",
   "name": "python3"
  },
  "language_info": {
   "codemirror_mode": {
    "name": "ipython",
    "version": 3
   },
   "file_extension": ".py",
   "mimetype": "text/x-python",
   "name": "python",
   "nbconvert_exporter": "python",
   "pygments_lexer": "ipython3",
   "version": "3.8.5"
  }
 },
 "nbformat": 4,
 "nbformat_minor": 2
}
